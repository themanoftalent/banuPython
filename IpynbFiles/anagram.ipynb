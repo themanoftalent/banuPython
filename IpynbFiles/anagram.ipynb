{
  "nbformat": 4,
  "nbformat_minor": 0,
  "metadata": {
    "colab": {
      "name": "anagram.ipynb",
      "provenance": [],
      "authorship_tag": "ABX9TyOs0VLJVWB0gevujwRiwDeh",
      "include_colab_link": true
    },
    "kernelspec": {
      "name": "python3",
      "display_name": "Python 3"
    },
    "language_info": {
      "name": "python"
    }
  },
  "cells": [
    {
      "cell_type": "markdown",
      "metadata": {
        "id": "view-in-github",
        "colab_type": "text"
      },
      "source": [
        "<a href=\"https://colab.research.google.com/github/themanoftalent/pyt-colab/blob/master/anagram.ipynb\" target=\"_parent\"><img src=\"https://colab.research.google.com/assets/colab-badge.svg\" alt=\"Open In Colab\"/></a>"
      ]
    },
    {
      "cell_type": "code",
      "metadata": {
        "id": "EzqpLlQt7EYd"
      },
      "source": [
        "def is_anagram(soz1,soz2):\n",
        "  if len(soz1) != len(soz2):\n",
        "    return False\n",
        "  else:\n",
        "    for i,j in zip(soz1,soz2):\n",
        "      if i!=j:\n",
        "        return False\n",
        "    return True\n",
        "      "
      ],
      "execution_count": 3,
      "outputs": []
    },
    {
      "cell_type": "code",
      "metadata": {
        "colab": {
          "base_uri": "https://localhost:8080/"
        },
        "id": "JkSOuRmG7T8p",
        "outputId": "83d5c10c-06fa-4277-c2d9-855ed55ff6a9"
      },
      "source": [
        "# soz1= 'SILENT'.lower()\n",
        "# soz2 = 'LISTEN'.lower()\n",
        "\n",
        "soz1=input('Enter first soz: ').lower()\n",
        "\n",
        "soz2=input('Enter second soz: ').lower()\n",
        "\n",
        "print(soz1,'\\n',soz2)"
      ],
      "execution_count": 40,
      "outputs": [
        {
          "output_type": "stream",
          "text": [
            "Enter first soz: HEY\n",
            "Enter second soz: YEH\n",
            "hey \n",
            " yeh\n"
          ],
          "name": "stdout"
        }
      ]
    },
    {
      "cell_type": "code",
      "metadata": {
        "id": "gnsztd7G70OA"
      },
      "source": [
        "soz1= sorted(soz1)\n",
        "soz2= sorted(soz2)"
      ],
      "execution_count": 41,
      "outputs": []
    },
    {
      "cell_type": "code",
      "metadata": {
        "colab": {
          "base_uri": "https://localhost:8080/"
        },
        "id": "WXgb4_Qh7_Ea",
        "outputId": "1306e9b4-d4c8-4c6a-8df8-6f697d112cc0"
      },
      "source": [
        "result = is_anagram(soz1, soz2)\n",
        "\n",
        "if result== True:\n",
        "  print('Anagram')\n",
        "else:\n",
        "  print('Not Anagram')"
      ],
      "execution_count": 42,
      "outputs": [
        {
          "output_type": "stream",
          "text": [
            "Anagram\n"
          ],
          "name": "stdout"
        }
      ]
    },
    {
      "cell_type": "code",
      "metadata": {
        "id": "cFuRSNke8ODp"
      },
      "source": [
        ""
      ],
      "execution_count": 42,
      "outputs": []
    }
  ]
}