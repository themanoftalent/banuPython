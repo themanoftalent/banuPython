{
 "cells": [
  {
   "cell_type": "code",
   "execution_count": 1,
   "id": "5e95b7e9",
   "metadata": {
    "_cell_guid": "b1076dfc-b9ad-4769-8c92-a6c4dae69d19",
    "_uuid": "8f2839f25d086af736a60e9eeb907d3b93b6e0e5",
    "execution": {
     "iopub.execute_input": "2022-11-06T09:14:36.452833Z",
     "iopub.status.busy": "2022-11-06T09:14:36.451749Z",
     "iopub.status.idle": "2022-11-06T09:14:36.473080Z",
     "shell.execute_reply": "2022-11-06T09:14:36.472205Z"
    },
    "papermill": {
     "duration": 0.038667,
     "end_time": "2022-11-06T09:14:36.476254",
     "exception": false,
     "start_time": "2022-11-06T09:14:36.437587",
     "status": "completed"
    },
    "tags": []
   },
   "outputs": [
    {
     "name": "stdout",
     "output_type": "stream",
     "text": [
      "/kaggle/input/banudatabreast/data.csv\n"
     ]
    }
   ],
   "source": [
    "# This Python 3 environment comes with many helpful analytics libraries installed\n",
    "# It is defined by the kaggle/python Docker image: https://github.com/kaggle/docker-python\n",
    "# For example, here's several helpful packages to load\n",
    "\n",
    "import numpy as np # linear algebra\n",
    "import pandas as pd # data processing, CSV file I/O (e.g. pd.read_csv)\n",
    "\n",
    "# Input data files are available in the read-only \"../input/\" directory\n",
    "# For example, running this (by clicking run or pressing Shift+Enter) will list all files under the input directory\n",
    "\n",
    "import os\n",
    "for dirname, _, filenames in os.walk('/kaggle/input'):\n",
    "    for filename in filenames:\n",
    "        print(os.path.join(dirname, filename))\n",
    "\n",
    "# You can write up to 20GB to the current directory (/kaggle/working/) that gets preserved as output when you create a version using \"Save & Run All\" \n",
    "# You can also write temporary files to /kaggle/temp/, but they won't be saved outside of the current session"
   ]
  },
  {
   "cell_type": "code",
   "execution_count": 2,
   "id": "e1384bf8",
   "metadata": {
    "execution": {
     "iopub.execute_input": "2022-11-06T09:14:36.500158Z",
     "iopub.status.busy": "2022-11-06T09:14:36.499779Z",
     "iopub.status.idle": "2022-11-06T09:14:37.683602Z",
     "shell.execute_reply": "2022-11-06T09:14:37.682453Z"
    },
    "papermill": {
     "duration": 1.198611,
     "end_time": "2022-11-06T09:14:37.686396",
     "exception": false,
     "start_time": "2022-11-06T09:14:36.487785",
     "status": "completed"
    },
    "tags": []
   },
   "outputs": [],
   "source": [
    "#importing the libraries\n",
    "\n",
    "import numpy as np\n",
    "import matplotlib.pyplot as plt\n",
    "import pandas as pd\n",
    "import seaborn as sns"
   ]
  },
  {
   "cell_type": "code",
   "execution_count": 3,
   "id": "8862fa4b",
   "metadata": {
    "execution": {
     "iopub.execute_input": "2022-11-06T09:14:37.710252Z",
     "iopub.status.busy": "2022-11-06T09:14:37.709839Z",
     "iopub.status.idle": "2022-11-06T09:14:37.732178Z",
     "shell.execute_reply": "2022-11-06T09:14:37.730662Z"
    },
    "papermill": {
     "duration": 0.038179,
     "end_time": "2022-11-06T09:14:37.734912",
     "exception": false,
     "start_time": "2022-11-06T09:14:37.696733",
     "status": "completed"
    },
    "tags": []
   },
   "outputs": [],
   "source": [
    "df = pd.read_csv(\"../input/banudatabreast/data.csv\")"
   ]
  },
  {
   "cell_type": "code",
   "execution_count": 4,
   "id": "d674d3ee",
   "metadata": {
    "execution": {
     "iopub.execute_input": "2022-11-06T09:14:37.756939Z",
     "iopub.status.busy": "2022-11-06T09:14:37.756504Z",
     "iopub.status.idle": "2022-11-06T09:14:37.797980Z",
     "shell.execute_reply": "2022-11-06T09:14:37.796770Z"
    },
    "papermill": {
     "duration": 0.055356,
     "end_time": "2022-11-06T09:14:37.800557",
     "exception": false,
     "start_time": "2022-11-06T09:14:37.745201",
     "status": "completed"
    },
    "tags": []
   },
   "outputs": [
    {
     "data": {
      "text/html": [
       "<div>\n",
       "<style scoped>\n",
       "    .dataframe tbody tr th:only-of-type {\n",
       "        vertical-align: middle;\n",
       "    }\n",
       "\n",
       "    .dataframe tbody tr th {\n",
       "        vertical-align: top;\n",
       "    }\n",
       "\n",
       "    .dataframe thead th {\n",
       "        text-align: right;\n",
       "    }\n",
       "</style>\n",
       "<table border=\"1\" class=\"dataframe\">\n",
       "  <thead>\n",
       "    <tr style=\"text-align: right;\">\n",
       "      <th></th>\n",
       "      <th>id</th>\n",
       "      <th>diagnosis</th>\n",
       "      <th>radius_mean</th>\n",
       "      <th>texture_mean</th>\n",
       "      <th>perimeter_mean</th>\n",
       "      <th>area_mean</th>\n",
       "      <th>smoothness_mean</th>\n",
       "      <th>compactness_mean</th>\n",
       "      <th>concavity_mean</th>\n",
       "      <th>concave points_mean</th>\n",
       "      <th>...</th>\n",
       "      <th>texture_worst</th>\n",
       "      <th>perimeter_worst</th>\n",
       "      <th>area_worst</th>\n",
       "      <th>smoothness_worst</th>\n",
       "      <th>compactness_worst</th>\n",
       "      <th>concavity_worst</th>\n",
       "      <th>concave points_worst</th>\n",
       "      <th>symmetry_worst</th>\n",
       "      <th>fractal_dimension_worst</th>\n",
       "      <th>Unnamed: 32</th>\n",
       "    </tr>\n",
       "  </thead>\n",
       "  <tbody>\n",
       "    <tr>\n",
       "      <th>0</th>\n",
       "      <td>842302</td>\n",
       "      <td>M</td>\n",
       "      <td>17.99</td>\n",
       "      <td>10.38</td>\n",
       "      <td>122.80</td>\n",
       "      <td>1001.0</td>\n",
       "      <td>0.11840</td>\n",
       "      <td>0.27760</td>\n",
       "      <td>0.3001</td>\n",
       "      <td>0.14710</td>\n",
       "      <td>...</td>\n",
       "      <td>17.33</td>\n",
       "      <td>184.60</td>\n",
       "      <td>2019.0</td>\n",
       "      <td>0.1622</td>\n",
       "      <td>0.6656</td>\n",
       "      <td>0.7119</td>\n",
       "      <td>0.2654</td>\n",
       "      <td>0.4601</td>\n",
       "      <td>0.11890</td>\n",
       "      <td>NaN</td>\n",
       "    </tr>\n",
       "    <tr>\n",
       "      <th>1</th>\n",
       "      <td>842517</td>\n",
       "      <td>M</td>\n",
       "      <td>20.57</td>\n",
       "      <td>17.77</td>\n",
       "      <td>132.90</td>\n",
       "      <td>1326.0</td>\n",
       "      <td>0.08474</td>\n",
       "      <td>0.07864</td>\n",
       "      <td>0.0869</td>\n",
       "      <td>0.07017</td>\n",
       "      <td>...</td>\n",
       "      <td>23.41</td>\n",
       "      <td>158.80</td>\n",
       "      <td>1956.0</td>\n",
       "      <td>0.1238</td>\n",
       "      <td>0.1866</td>\n",
       "      <td>0.2416</td>\n",
       "      <td>0.1860</td>\n",
       "      <td>0.2750</td>\n",
       "      <td>0.08902</td>\n",
       "      <td>NaN</td>\n",
       "    </tr>\n",
       "    <tr>\n",
       "      <th>2</th>\n",
       "      <td>84300903</td>\n",
       "      <td>M</td>\n",
       "      <td>19.69</td>\n",
       "      <td>21.25</td>\n",
       "      <td>130.00</td>\n",
       "      <td>1203.0</td>\n",
       "      <td>0.10960</td>\n",
       "      <td>0.15990</td>\n",
       "      <td>0.1974</td>\n",
       "      <td>0.12790</td>\n",
       "      <td>...</td>\n",
       "      <td>25.53</td>\n",
       "      <td>152.50</td>\n",
       "      <td>1709.0</td>\n",
       "      <td>0.1444</td>\n",
       "      <td>0.4245</td>\n",
       "      <td>0.4504</td>\n",
       "      <td>0.2430</td>\n",
       "      <td>0.3613</td>\n",
       "      <td>0.08758</td>\n",
       "      <td>NaN</td>\n",
       "    </tr>\n",
       "    <tr>\n",
       "      <th>3</th>\n",
       "      <td>84348301</td>\n",
       "      <td>M</td>\n",
       "      <td>11.42</td>\n",
       "      <td>20.38</td>\n",
       "      <td>77.58</td>\n",
       "      <td>386.1</td>\n",
       "      <td>0.14250</td>\n",
       "      <td>0.28390</td>\n",
       "      <td>0.2414</td>\n",
       "      <td>0.10520</td>\n",
       "      <td>...</td>\n",
       "      <td>26.50</td>\n",
       "      <td>98.87</td>\n",
       "      <td>567.7</td>\n",
       "      <td>0.2098</td>\n",
       "      <td>0.8663</td>\n",
       "      <td>0.6869</td>\n",
       "      <td>0.2575</td>\n",
       "      <td>0.6638</td>\n",
       "      <td>0.17300</td>\n",
       "      <td>NaN</td>\n",
       "    </tr>\n",
       "    <tr>\n",
       "      <th>4</th>\n",
       "      <td>84358402</td>\n",
       "      <td>M</td>\n",
       "      <td>20.29</td>\n",
       "      <td>14.34</td>\n",
       "      <td>135.10</td>\n",
       "      <td>1297.0</td>\n",
       "      <td>0.10030</td>\n",
       "      <td>0.13280</td>\n",
       "      <td>0.1980</td>\n",
       "      <td>0.10430</td>\n",
       "      <td>...</td>\n",
       "      <td>16.67</td>\n",
       "      <td>152.20</td>\n",
       "      <td>1575.0</td>\n",
       "      <td>0.1374</td>\n",
       "      <td>0.2050</td>\n",
       "      <td>0.4000</td>\n",
       "      <td>0.1625</td>\n",
       "      <td>0.2364</td>\n",
       "      <td>0.07678</td>\n",
       "      <td>NaN</td>\n",
       "    </tr>\n",
       "  </tbody>\n",
       "</table>\n",
       "<p>5 rows × 33 columns</p>\n",
       "</div>"
      ],
      "text/plain": [
       "         id diagnosis  radius_mean  texture_mean  perimeter_mean  area_mean  \\\n",
       "0    842302         M        17.99         10.38          122.80     1001.0   \n",
       "1    842517         M        20.57         17.77          132.90     1326.0   \n",
       "2  84300903         M        19.69         21.25          130.00     1203.0   \n",
       "3  84348301         M        11.42         20.38           77.58      386.1   \n",
       "4  84358402         M        20.29         14.34          135.10     1297.0   \n",
       "\n",
       "   smoothness_mean  compactness_mean  concavity_mean  concave points_mean  \\\n",
       "0          0.11840           0.27760          0.3001              0.14710   \n",
       "1          0.08474           0.07864          0.0869              0.07017   \n",
       "2          0.10960           0.15990          0.1974              0.12790   \n",
       "3          0.14250           0.28390          0.2414              0.10520   \n",
       "4          0.10030           0.13280          0.1980              0.10430   \n",
       "\n",
       "   ...  texture_worst  perimeter_worst  area_worst  smoothness_worst  \\\n",
       "0  ...          17.33           184.60      2019.0            0.1622   \n",
       "1  ...          23.41           158.80      1956.0            0.1238   \n",
       "2  ...          25.53           152.50      1709.0            0.1444   \n",
       "3  ...          26.50            98.87       567.7            0.2098   \n",
       "4  ...          16.67           152.20      1575.0            0.1374   \n",
       "\n",
       "   compactness_worst  concavity_worst  concave points_worst  symmetry_worst  \\\n",
       "0             0.6656           0.7119                0.2654          0.4601   \n",
       "1             0.1866           0.2416                0.1860          0.2750   \n",
       "2             0.4245           0.4504                0.2430          0.3613   \n",
       "3             0.8663           0.6869                0.2575          0.6638   \n",
       "4             0.2050           0.4000                0.1625          0.2364   \n",
       "\n",
       "   fractal_dimension_worst  Unnamed: 32  \n",
       "0                  0.11890          NaN  \n",
       "1                  0.08902          NaN  \n",
       "2                  0.08758          NaN  \n",
       "3                  0.17300          NaN  \n",
       "4                  0.07678          NaN  \n",
       "\n",
       "[5 rows x 33 columns]"
      ]
     },
     "execution_count": 4,
     "metadata": {},
     "output_type": "execute_result"
    }
   ],
   "source": [
    "df.head()"
   ]
  },
  {
   "cell_type": "code",
   "execution_count": 5,
   "id": "c0cf7fa2",
   "metadata": {
    "execution": {
     "iopub.execute_input": "2022-11-06T09:14:37.823538Z",
     "iopub.status.busy": "2022-11-06T09:14:37.823082Z",
     "iopub.status.idle": "2022-11-06T09:14:37.842990Z",
     "shell.execute_reply": "2022-11-06T09:14:37.841725Z"
    },
    "papermill": {
     "duration": 0.03517,
     "end_time": "2022-11-06T09:14:37.846436",
     "exception": false,
     "start_time": "2022-11-06T09:14:37.811266",
     "status": "completed"
    },
    "tags": []
   },
   "outputs": [
    {
     "name": "stdout",
     "output_type": "stream",
     "text": [
      "         id diagnosis  radius_mean  texture_mean  perimeter_mean  area_mean  \\\n",
      "0    842302         M        17.99         10.38          122.80     1001.0   \n",
      "1    842517         M        20.57         17.77          132.90     1326.0   \n",
      "2  84300903         M        19.69         21.25          130.00     1203.0   \n",
      "3  84348301         M        11.42         20.38           77.58      386.1   \n",
      "4  84358402         M        20.29         14.34          135.10     1297.0   \n",
      "\n",
      "   smoothness_mean  compactness_mean  concavity_mean  concave points_mean  \\\n",
      "0          0.11840           0.27760          0.3001              0.14710   \n",
      "1          0.08474           0.07864          0.0869              0.07017   \n",
      "2          0.10960           0.15990          0.1974              0.12790   \n",
      "3          0.14250           0.28390          0.2414              0.10520   \n",
      "4          0.10030           0.13280          0.1980              0.10430   \n",
      "\n",
      "   ...  radius_worst  texture_worst  perimeter_worst  area_worst  \\\n",
      "0  ...         25.38          17.33           184.60      2019.0   \n",
      "1  ...         24.99          23.41           158.80      1956.0   \n",
      "2  ...         23.57          25.53           152.50      1709.0   \n",
      "3  ...         14.91          26.50            98.87       567.7   \n",
      "4  ...         22.54          16.67           152.20      1575.0   \n",
      "\n",
      "   smoothness_worst  compactness_worst  concavity_worst  concave points_worst  \\\n",
      "0            0.1622             0.6656           0.7119                0.2654   \n",
      "1            0.1238             0.1866           0.2416                0.1860   \n",
      "2            0.1444             0.4245           0.4504                0.2430   \n",
      "3            0.2098             0.8663           0.6869                0.2575   \n",
      "4            0.1374             0.2050           0.4000                0.1625   \n",
      "\n",
      "   symmetry_worst  fractal_dimension_worst  \n",
      "0          0.4601                  0.11890  \n",
      "1          0.2750                  0.08902  \n",
      "2          0.3613                  0.08758  \n",
      "3          0.6638                  0.17300  \n",
      "4          0.2364                  0.07678  \n",
      "\n",
      "[5 rows x 32 columns]\n"
     ]
    }
   ],
   "source": [
    "# remove unnamed column\n",
    "\n",
    "df = df.loc[:, ~df.columns.str.contains('^Unnamed')]\n",
    "print(df.head())"
   ]
  },
  {
   "cell_type": "code",
   "execution_count": 6,
   "id": "3f40a417",
   "metadata": {
    "execution": {
     "iopub.execute_input": "2022-11-06T09:14:37.870586Z",
     "iopub.status.busy": "2022-11-06T09:14:37.870199Z",
     "iopub.status.idle": "2022-11-06T09:14:37.897742Z",
     "shell.execute_reply": "2022-11-06T09:14:37.895925Z"
    },
    "papermill": {
     "duration": 0.042209,
     "end_time": "2022-11-06T09:14:37.900401",
     "exception": false,
     "start_time": "2022-11-06T09:14:37.858192",
     "status": "completed"
    },
    "tags": []
   },
   "outputs": [
    {
     "name": "stdout",
     "output_type": "stream",
     "text": [
      "<class 'pandas.core.frame.DataFrame'>\n",
      "RangeIndex: 569 entries, 0 to 568\n",
      "Data columns (total 32 columns):\n",
      " #   Column                   Non-Null Count  Dtype  \n",
      "---  ------                   --------------  -----  \n",
      " 0   id                       569 non-null    int64  \n",
      " 1   diagnosis                569 non-null    object \n",
      " 2   radius_mean              569 non-null    float64\n",
      " 3   texture_mean             569 non-null    float64\n",
      " 4   perimeter_mean           569 non-null    float64\n",
      " 5   area_mean                569 non-null    float64\n",
      " 6   smoothness_mean          569 non-null    float64\n",
      " 7   compactness_mean         569 non-null    float64\n",
      " 8   concavity_mean           569 non-null    float64\n",
      " 9   concave points_mean      569 non-null    float64\n",
      " 10  symmetry_mean            569 non-null    float64\n",
      " 11  fractal_dimension_mean   569 non-null    float64\n",
      " 12  radius_se                569 non-null    float64\n",
      " 13  texture_se               569 non-null    float64\n",
      " 14  perimeter_se             569 non-null    float64\n",
      " 15  area_se                  569 non-null    float64\n",
      " 16  smoothness_se            569 non-null    float64\n",
      " 17  compactness_se           569 non-null    float64\n",
      " 18  concavity_se             569 non-null    float64\n",
      " 19  concave points_se        569 non-null    float64\n",
      " 20  symmetry_se              569 non-null    float64\n",
      " 21  fractal_dimension_se     569 non-null    float64\n",
      " 22  radius_worst             569 non-null    float64\n",
      " 23  texture_worst            569 non-null    float64\n",
      " 24  perimeter_worst          569 non-null    float64\n",
      " 25  area_worst               569 non-null    float64\n",
      " 26  smoothness_worst         569 non-null    float64\n",
      " 27  compactness_worst        569 non-null    float64\n",
      " 28  concavity_worst          569 non-null    float64\n",
      " 29  concave points_worst     569 non-null    float64\n",
      " 30  symmetry_worst           569 non-null    float64\n",
      " 31  fractal_dimension_worst  569 non-null    float64\n",
      "dtypes: float64(30), int64(1), object(1)\n",
      "memory usage: 142.4+ KB\n"
     ]
    }
   ],
   "source": [
    "df.info()\n"
   ]
  },
  {
   "cell_type": "code",
   "execution_count": 7,
   "id": "ada2e20f",
   "metadata": {
    "execution": {
     "iopub.execute_input": "2022-11-06T09:14:37.924380Z",
     "iopub.status.busy": "2022-11-06T09:14:37.923988Z",
     "iopub.status.idle": "2022-11-06T09:14:38.018346Z",
     "shell.execute_reply": "2022-11-06T09:14:38.017059Z"
    },
    "papermill": {
     "duration": 0.109181,
     "end_time": "2022-11-06T09:14:38.020837",
     "exception": false,
     "start_time": "2022-11-06T09:14:37.911656",
     "status": "completed"
    },
    "tags": []
   },
   "outputs": [
    {
     "data": {
      "text/html": [
       "<div>\n",
       "<style scoped>\n",
       "    .dataframe tbody tr th:only-of-type {\n",
       "        vertical-align: middle;\n",
       "    }\n",
       "\n",
       "    .dataframe tbody tr th {\n",
       "        vertical-align: top;\n",
       "    }\n",
       "\n",
       "    .dataframe thead th {\n",
       "        text-align: right;\n",
       "    }\n",
       "</style>\n",
       "<table border=\"1\" class=\"dataframe\">\n",
       "  <thead>\n",
       "    <tr style=\"text-align: right;\">\n",
       "      <th></th>\n",
       "      <th>id</th>\n",
       "      <th>radius_mean</th>\n",
       "      <th>texture_mean</th>\n",
       "      <th>perimeter_mean</th>\n",
       "      <th>area_mean</th>\n",
       "      <th>smoothness_mean</th>\n",
       "      <th>compactness_mean</th>\n",
       "      <th>concavity_mean</th>\n",
       "      <th>concave points_mean</th>\n",
       "      <th>symmetry_mean</th>\n",
       "      <th>...</th>\n",
       "      <th>radius_worst</th>\n",
       "      <th>texture_worst</th>\n",
       "      <th>perimeter_worst</th>\n",
       "      <th>area_worst</th>\n",
       "      <th>smoothness_worst</th>\n",
       "      <th>compactness_worst</th>\n",
       "      <th>concavity_worst</th>\n",
       "      <th>concave points_worst</th>\n",
       "      <th>symmetry_worst</th>\n",
       "      <th>fractal_dimension_worst</th>\n",
       "    </tr>\n",
       "  </thead>\n",
       "  <tbody>\n",
       "    <tr>\n",
       "      <th>count</th>\n",
       "      <td>5.690000e+02</td>\n",
       "      <td>569.000000</td>\n",
       "      <td>569.000000</td>\n",
       "      <td>569.000000</td>\n",
       "      <td>569.000000</td>\n",
       "      <td>569.000000</td>\n",
       "      <td>569.000000</td>\n",
       "      <td>569.000000</td>\n",
       "      <td>569.000000</td>\n",
       "      <td>569.000000</td>\n",
       "      <td>...</td>\n",
       "      <td>569.000000</td>\n",
       "      <td>569.000000</td>\n",
       "      <td>569.000000</td>\n",
       "      <td>569.000000</td>\n",
       "      <td>569.000000</td>\n",
       "      <td>569.000000</td>\n",
       "      <td>569.000000</td>\n",
       "      <td>569.000000</td>\n",
       "      <td>569.000000</td>\n",
       "      <td>569.000000</td>\n",
       "    </tr>\n",
       "    <tr>\n",
       "      <th>mean</th>\n",
       "      <td>3.037183e+07</td>\n",
       "      <td>14.127292</td>\n",
       "      <td>19.289649</td>\n",
       "      <td>91.969033</td>\n",
       "      <td>654.889104</td>\n",
       "      <td>0.096360</td>\n",
       "      <td>0.104341</td>\n",
       "      <td>0.088799</td>\n",
       "      <td>0.048919</td>\n",
       "      <td>0.181162</td>\n",
       "      <td>...</td>\n",
       "      <td>16.269190</td>\n",
       "      <td>25.677223</td>\n",
       "      <td>107.261213</td>\n",
       "      <td>880.583128</td>\n",
       "      <td>0.132369</td>\n",
       "      <td>0.254265</td>\n",
       "      <td>0.272188</td>\n",
       "      <td>0.114606</td>\n",
       "      <td>0.290076</td>\n",
       "      <td>0.083946</td>\n",
       "    </tr>\n",
       "    <tr>\n",
       "      <th>std</th>\n",
       "      <td>1.250206e+08</td>\n",
       "      <td>3.524049</td>\n",
       "      <td>4.301036</td>\n",
       "      <td>24.298981</td>\n",
       "      <td>351.914129</td>\n",
       "      <td>0.014064</td>\n",
       "      <td>0.052813</td>\n",
       "      <td>0.079720</td>\n",
       "      <td>0.038803</td>\n",
       "      <td>0.027414</td>\n",
       "      <td>...</td>\n",
       "      <td>4.833242</td>\n",
       "      <td>6.146258</td>\n",
       "      <td>33.602542</td>\n",
       "      <td>569.356993</td>\n",
       "      <td>0.022832</td>\n",
       "      <td>0.157336</td>\n",
       "      <td>0.208624</td>\n",
       "      <td>0.065732</td>\n",
       "      <td>0.061867</td>\n",
       "      <td>0.018061</td>\n",
       "    </tr>\n",
       "    <tr>\n",
       "      <th>min</th>\n",
       "      <td>8.670000e+03</td>\n",
       "      <td>6.981000</td>\n",
       "      <td>9.710000</td>\n",
       "      <td>43.790000</td>\n",
       "      <td>143.500000</td>\n",
       "      <td>0.052630</td>\n",
       "      <td>0.019380</td>\n",
       "      <td>0.000000</td>\n",
       "      <td>0.000000</td>\n",
       "      <td>0.106000</td>\n",
       "      <td>...</td>\n",
       "      <td>7.930000</td>\n",
       "      <td>12.020000</td>\n",
       "      <td>50.410000</td>\n",
       "      <td>185.200000</td>\n",
       "      <td>0.071170</td>\n",
       "      <td>0.027290</td>\n",
       "      <td>0.000000</td>\n",
       "      <td>0.000000</td>\n",
       "      <td>0.156500</td>\n",
       "      <td>0.055040</td>\n",
       "    </tr>\n",
       "    <tr>\n",
       "      <th>25%</th>\n",
       "      <td>8.692180e+05</td>\n",
       "      <td>11.700000</td>\n",
       "      <td>16.170000</td>\n",
       "      <td>75.170000</td>\n",
       "      <td>420.300000</td>\n",
       "      <td>0.086370</td>\n",
       "      <td>0.064920</td>\n",
       "      <td>0.029560</td>\n",
       "      <td>0.020310</td>\n",
       "      <td>0.161900</td>\n",
       "      <td>...</td>\n",
       "      <td>13.010000</td>\n",
       "      <td>21.080000</td>\n",
       "      <td>84.110000</td>\n",
       "      <td>515.300000</td>\n",
       "      <td>0.116600</td>\n",
       "      <td>0.147200</td>\n",
       "      <td>0.114500</td>\n",
       "      <td>0.064930</td>\n",
       "      <td>0.250400</td>\n",
       "      <td>0.071460</td>\n",
       "    </tr>\n",
       "    <tr>\n",
       "      <th>50%</th>\n",
       "      <td>9.060240e+05</td>\n",
       "      <td>13.370000</td>\n",
       "      <td>18.840000</td>\n",
       "      <td>86.240000</td>\n",
       "      <td>551.100000</td>\n",
       "      <td>0.095870</td>\n",
       "      <td>0.092630</td>\n",
       "      <td>0.061540</td>\n",
       "      <td>0.033500</td>\n",
       "      <td>0.179200</td>\n",
       "      <td>...</td>\n",
       "      <td>14.970000</td>\n",
       "      <td>25.410000</td>\n",
       "      <td>97.660000</td>\n",
       "      <td>686.500000</td>\n",
       "      <td>0.131300</td>\n",
       "      <td>0.211900</td>\n",
       "      <td>0.226700</td>\n",
       "      <td>0.099930</td>\n",
       "      <td>0.282200</td>\n",
       "      <td>0.080040</td>\n",
       "    </tr>\n",
       "    <tr>\n",
       "      <th>75%</th>\n",
       "      <td>8.813129e+06</td>\n",
       "      <td>15.780000</td>\n",
       "      <td>21.800000</td>\n",
       "      <td>104.100000</td>\n",
       "      <td>782.700000</td>\n",
       "      <td>0.105300</td>\n",
       "      <td>0.130400</td>\n",
       "      <td>0.130700</td>\n",
       "      <td>0.074000</td>\n",
       "      <td>0.195700</td>\n",
       "      <td>...</td>\n",
       "      <td>18.790000</td>\n",
       "      <td>29.720000</td>\n",
       "      <td>125.400000</td>\n",
       "      <td>1084.000000</td>\n",
       "      <td>0.146000</td>\n",
       "      <td>0.339100</td>\n",
       "      <td>0.382900</td>\n",
       "      <td>0.161400</td>\n",
       "      <td>0.317900</td>\n",
       "      <td>0.092080</td>\n",
       "    </tr>\n",
       "    <tr>\n",
       "      <th>max</th>\n",
       "      <td>9.113205e+08</td>\n",
       "      <td>28.110000</td>\n",
       "      <td>39.280000</td>\n",
       "      <td>188.500000</td>\n",
       "      <td>2501.000000</td>\n",
       "      <td>0.163400</td>\n",
       "      <td>0.345400</td>\n",
       "      <td>0.426800</td>\n",
       "      <td>0.201200</td>\n",
       "      <td>0.304000</td>\n",
       "      <td>...</td>\n",
       "      <td>36.040000</td>\n",
       "      <td>49.540000</td>\n",
       "      <td>251.200000</td>\n",
       "      <td>4254.000000</td>\n",
       "      <td>0.222600</td>\n",
       "      <td>1.058000</td>\n",
       "      <td>1.252000</td>\n",
       "      <td>0.291000</td>\n",
       "      <td>0.663800</td>\n",
       "      <td>0.207500</td>\n",
       "    </tr>\n",
       "  </tbody>\n",
       "</table>\n",
       "<p>8 rows × 31 columns</p>\n",
       "</div>"
      ],
      "text/plain": [
       "                 id  radius_mean  texture_mean  perimeter_mean    area_mean  \\\n",
       "count  5.690000e+02   569.000000    569.000000      569.000000   569.000000   \n",
       "mean   3.037183e+07    14.127292     19.289649       91.969033   654.889104   \n",
       "std    1.250206e+08     3.524049      4.301036       24.298981   351.914129   \n",
       "min    8.670000e+03     6.981000      9.710000       43.790000   143.500000   \n",
       "25%    8.692180e+05    11.700000     16.170000       75.170000   420.300000   \n",
       "50%    9.060240e+05    13.370000     18.840000       86.240000   551.100000   \n",
       "75%    8.813129e+06    15.780000     21.800000      104.100000   782.700000   \n",
       "max    9.113205e+08    28.110000     39.280000      188.500000  2501.000000   \n",
       "\n",
       "       smoothness_mean  compactness_mean  concavity_mean  concave points_mean  \\\n",
       "count       569.000000        569.000000      569.000000           569.000000   \n",
       "mean          0.096360          0.104341        0.088799             0.048919   \n",
       "std           0.014064          0.052813        0.079720             0.038803   \n",
       "min           0.052630          0.019380        0.000000             0.000000   \n",
       "25%           0.086370          0.064920        0.029560             0.020310   \n",
       "50%           0.095870          0.092630        0.061540             0.033500   \n",
       "75%           0.105300          0.130400        0.130700             0.074000   \n",
       "max           0.163400          0.345400        0.426800             0.201200   \n",
       "\n",
       "       symmetry_mean  ...  radius_worst  texture_worst  perimeter_worst  \\\n",
       "count     569.000000  ...    569.000000     569.000000       569.000000   \n",
       "mean        0.181162  ...     16.269190      25.677223       107.261213   \n",
       "std         0.027414  ...      4.833242       6.146258        33.602542   \n",
       "min         0.106000  ...      7.930000      12.020000        50.410000   \n",
       "25%         0.161900  ...     13.010000      21.080000        84.110000   \n",
       "50%         0.179200  ...     14.970000      25.410000        97.660000   \n",
       "75%         0.195700  ...     18.790000      29.720000       125.400000   \n",
       "max         0.304000  ...     36.040000      49.540000       251.200000   \n",
       "\n",
       "        area_worst  smoothness_worst  compactness_worst  concavity_worst  \\\n",
       "count   569.000000        569.000000         569.000000       569.000000   \n",
       "mean    880.583128          0.132369           0.254265         0.272188   \n",
       "std     569.356993          0.022832           0.157336         0.208624   \n",
       "min     185.200000          0.071170           0.027290         0.000000   \n",
       "25%     515.300000          0.116600           0.147200         0.114500   \n",
       "50%     686.500000          0.131300           0.211900         0.226700   \n",
       "75%    1084.000000          0.146000           0.339100         0.382900   \n",
       "max    4254.000000          0.222600           1.058000         1.252000   \n",
       "\n",
       "       concave points_worst  symmetry_worst  fractal_dimension_worst  \n",
       "count            569.000000      569.000000               569.000000  \n",
       "mean               0.114606        0.290076                 0.083946  \n",
       "std                0.065732        0.061867                 0.018061  \n",
       "min                0.000000        0.156500                 0.055040  \n",
       "25%                0.064930        0.250400                 0.071460  \n",
       "50%                0.099930        0.282200                 0.080040  \n",
       "75%                0.161400        0.317900                 0.092080  \n",
       "max                0.291000        0.663800                 0.207500  \n",
       "\n",
       "[8 rows x 31 columns]"
      ]
     },
     "execution_count": 7,
     "metadata": {},
     "output_type": "execute_result"
    }
   ],
   "source": [
    "df.describe()\n"
   ]
  },
  {
   "cell_type": "code",
   "execution_count": 8,
   "id": "858d5798",
   "metadata": {
    "execution": {
     "iopub.execute_input": "2022-11-06T09:14:38.044930Z",
     "iopub.status.busy": "2022-11-06T09:14:38.044493Z",
     "iopub.status.idle": "2022-11-06T09:14:38.052242Z",
     "shell.execute_reply": "2022-11-06T09:14:38.051128Z"
    },
    "papermill": {
     "duration": 0.022331,
     "end_time": "2022-11-06T09:14:38.054625",
     "exception": false,
     "start_time": "2022-11-06T09:14:38.032294",
     "status": "completed"
    },
    "tags": []
   },
   "outputs": [
    {
     "data": {
      "text/plain": [
       "Index(['id', 'diagnosis', 'radius_mean', 'texture_mean', 'perimeter_mean',\n",
       "       'area_mean', 'smoothness_mean', 'compactness_mean', 'concavity_mean',\n",
       "       'concave points_mean', 'symmetry_mean', 'fractal_dimension_mean',\n",
       "       'radius_se', 'texture_se', 'perimeter_se', 'area_se', 'smoothness_se',\n",
       "       'compactness_se', 'concavity_se', 'concave points_se', 'symmetry_se',\n",
       "       'fractal_dimension_se', 'radius_worst', 'texture_worst',\n",
       "       'perimeter_worst', 'area_worst', 'smoothness_worst',\n",
       "       'compactness_worst', 'concavity_worst', 'concave points_worst',\n",
       "       'symmetry_worst', 'fractal_dimension_worst'],\n",
       "      dtype='object')"
      ]
     },
     "execution_count": 8,
     "metadata": {},
     "output_type": "execute_result"
    }
   ],
   "source": [
    "df.columns\n"
   ]
  },
  {
   "cell_type": "code",
   "execution_count": 9,
   "id": "7cea0108",
   "metadata": {
    "execution": {
     "iopub.execute_input": "2022-11-06T09:14:38.078401Z",
     "iopub.status.busy": "2022-11-06T09:14:38.077992Z",
     "iopub.status.idle": "2022-11-06T09:14:38.085503Z",
     "shell.execute_reply": "2022-11-06T09:14:38.084318Z"
    },
    "papermill": {
     "duration": 0.022241,
     "end_time": "2022-11-06T09:14:38.087899",
     "exception": false,
     "start_time": "2022-11-06T09:14:38.065658",
     "status": "completed"
    },
    "tags": []
   },
   "outputs": [
    {
     "data": {
      "text/plain": [
       "(569, 32)"
      ]
     },
     "execution_count": 9,
     "metadata": {},
     "output_type": "execute_result"
    }
   ],
   "source": [
    "df.shape"
   ]
  },
  {
   "cell_type": "code",
   "execution_count": 10,
   "id": "dbbb165b",
   "metadata": {
    "execution": {
     "iopub.execute_input": "2022-11-06T09:14:38.112294Z",
     "iopub.status.busy": "2022-11-06T09:14:38.111891Z",
     "iopub.status.idle": "2022-11-06T09:14:38.121356Z",
     "shell.execute_reply": "2022-11-06T09:14:38.119494Z"
    },
    "papermill": {
     "duration": 0.024925,
     "end_time": "2022-11-06T09:14:38.124045",
     "exception": false,
     "start_time": "2022-11-06T09:14:38.099120",
     "status": "completed"
    },
    "tags": []
   },
   "outputs": [
    {
     "name": "stdout",
     "output_type": "stream",
     "text": [
      "id                         0\n",
      "diagnosis                  0\n",
      "radius_mean                0\n",
      "texture_mean               0\n",
      "perimeter_mean             0\n",
      "area_mean                  0\n",
      "smoothness_mean            0\n",
      "compactness_mean           0\n",
      "concavity_mean             0\n",
      "concave points_mean        0\n",
      "symmetry_mean              0\n",
      "fractal_dimension_mean     0\n",
      "radius_se                  0\n",
      "texture_se                 0\n",
      "perimeter_se               0\n",
      "area_se                    0\n",
      "smoothness_se              0\n",
      "compactness_se             0\n",
      "concavity_se               0\n",
      "concave points_se          0\n",
      "symmetry_se                0\n",
      "fractal_dimension_se       0\n",
      "radius_worst               0\n",
      "texture_worst              0\n",
      "perimeter_worst            0\n",
      "area_worst                 0\n",
      "smoothness_worst           0\n",
      "compactness_worst          0\n",
      "concavity_worst            0\n",
      "concave points_worst       0\n",
      "symmetry_worst             0\n",
      "fractal_dimension_worst    0\n",
      "dtype: int64\n"
     ]
    }
   ],
   "source": [
    "# count the number of empty (NaN, NAN, na) values in each column\n",
    "print(df.isnull().sum())"
   ]
  },
  {
   "cell_type": "code",
   "execution_count": 11,
   "id": "6361aaa9",
   "metadata": {
    "execution": {
     "iopub.execute_input": "2022-11-06T09:14:38.148276Z",
     "iopub.status.busy": "2022-11-06T09:14:38.147851Z",
     "iopub.status.idle": "2022-11-06T09:14:38.160572Z",
     "shell.execute_reply": "2022-11-06T09:14:38.159245Z"
    },
    "papermill": {
     "duration": 0.028108,
     "end_time": "2022-11-06T09:14:38.163565",
     "exception": false,
     "start_time": "2022-11-06T09:14:38.135457",
     "status": "completed"
    },
    "tags": []
   },
   "outputs": [
    {
     "name": "stdout",
     "output_type": "stream",
     "text": [
      "id                         0\n",
      "diagnosis                  0\n",
      "radius_mean                0\n",
      "texture_mean               0\n",
      "perimeter_mean             0\n",
      "area_mean                  0\n",
      "smoothness_mean            0\n",
      "compactness_mean           0\n",
      "concavity_mean             0\n",
      "concave points_mean        0\n",
      "symmetry_mean              0\n",
      "fractal_dimension_mean     0\n",
      "radius_se                  0\n",
      "texture_se                 0\n",
      "perimeter_se               0\n",
      "area_se                    0\n",
      "smoothness_se              0\n",
      "compactness_se             0\n",
      "concavity_se               0\n",
      "concave points_se          0\n",
      "symmetry_se                0\n",
      "fractal_dimension_se       0\n",
      "radius_worst               0\n",
      "texture_worst              0\n",
      "perimeter_worst            0\n",
      "area_worst                 0\n",
      "smoothness_worst           0\n",
      "compactness_worst          0\n",
      "concavity_worst            0\n",
      "concave points_worst       0\n",
      "symmetry_worst             0\n",
      "fractal_dimension_worst    0\n",
      "dtype: int64\n"
     ]
    }
   ],
   "source": [
    "# drop the column with all missing values\n",
    "df = df.dropna(axis=1)\n",
    "print(df.isnull().sum())"
   ]
  },
  {
   "cell_type": "code",
   "execution_count": 12,
   "id": "24ce169b",
   "metadata": {
    "execution": {
     "iopub.execute_input": "2022-11-06T09:14:38.188138Z",
     "iopub.status.busy": "2022-11-06T09:14:38.187768Z",
     "iopub.status.idle": "2022-11-06T09:14:38.193434Z",
     "shell.execute_reply": "2022-11-06T09:14:38.192246Z"
    },
    "papermill": {
     "duration": 0.021402,
     "end_time": "2022-11-06T09:14:38.196358",
     "exception": false,
     "start_time": "2022-11-06T09:14:38.174956",
     "status": "completed"
    },
    "tags": []
   },
   "outputs": [
    {
     "name": "stdout",
     "output_type": "stream",
     "text": [
      "(569, 32)\n"
     ]
    }
   ],
   "source": [
    "# get the new count of the number of rows and columns in the data set\n",
    "print(df.shape)"
   ]
  },
  {
   "cell_type": "code",
   "execution_count": 13,
   "id": "6697d28f",
   "metadata": {
    "execution": {
     "iopub.execute_input": "2022-11-06T09:14:38.222079Z",
     "iopub.status.busy": "2022-11-06T09:14:38.221695Z",
     "iopub.status.idle": "2022-11-06T09:14:38.229995Z",
     "shell.execute_reply": "2022-11-06T09:14:38.228619Z"
    },
    "papermill": {
     "duration": 0.023868,
     "end_time": "2022-11-06T09:14:38.232746",
     "exception": false,
     "start_time": "2022-11-06T09:14:38.208878",
     "status": "completed"
    },
    "tags": []
   },
   "outputs": [
    {
     "name": "stdout",
     "output_type": "stream",
     "text": [
      "B    357\n",
      "M    212\n",
      "Name: diagnosis, dtype: int64\n"
     ]
    }
   ],
   "source": [
    "# get a count of the number of Malignant (M) or Benign (B) cells\n",
    "print(df['diagnosis'].value_counts())"
   ]
  },
  {
   "cell_type": "code",
   "execution_count": 14,
   "id": "9a091016",
   "metadata": {
    "execution": {
     "iopub.execute_input": "2022-11-06T09:14:38.258424Z",
     "iopub.status.busy": "2022-11-06T09:14:38.257962Z",
     "iopub.status.idle": "2022-11-06T09:14:38.429849Z",
     "shell.execute_reply": "2022-11-06T09:14:38.428609Z"
    },
    "papermill": {
     "duration": 0.188412,
     "end_time": "2022-11-06T09:14:38.433045",
     "exception": false,
     "start_time": "2022-11-06T09:14:38.244633",
     "status": "completed"
    },
    "tags": []
   },
   "outputs": [
    {
     "name": "stderr",
     "output_type": "stream",
     "text": [
      "/opt/conda/lib/python3.7/site-packages/seaborn/_decorators.py:43: FutureWarning: Pass the following variable as a keyword arg: x. From version 0.12, the only valid positional argument will be `data`, and passing other arguments without an explicit keyword will result in an error or misinterpretation.\n",
      "  FutureWarning\n"
     ]
    },
    {
     "data": {
      "text/plain": [
       "<AxesSubplot:xlabel='diagnosis', ylabel='count'>"
      ]
     },
     "execution_count": 14,
     "metadata": {},
     "output_type": "execute_result"
    },
    {
     "data": {
      "image/png": "[encoded data removed]",
      "text/plain": [
       "<Figure size 432x288 with 1 Axes>"
      ]
     },
     "metadata": {
      "needs_background": "light"
     },
     "output_type": "display_data"
    }
   ],
   "source": [
    "# visualize the count\n",
    "sns.countplot(df['diagnosis'],label=\"Count\")"
   ]
  },
  {
   "cell_type": "code",
   "execution_count": 15,
   "id": "c5f75f1d",
   "metadata": {
    "execution": {
     "iopub.execute_input": "2022-11-06T09:14:38.459949Z",
     "iopub.status.busy": "2022-11-06T09:14:38.459498Z",
     "iopub.status.idle": "2022-11-06T09:14:38.466961Z",
     "shell.execute_reply": "2022-11-06T09:14:38.465764Z"
    },
    "papermill": {
     "duration": 0.025868,
     "end_time": "2022-11-06T09:14:38.471808",
     "exception": false,
     "start_time": "2022-11-06T09:14:38.445940",
     "status": "completed"
    },
    "tags": []
   },
   "outputs": [
    {
     "name": "stdout",
     "output_type": "stream",
     "text": [
      "id                           int64\n",
      "diagnosis                   object\n",
      "radius_mean                float64\n",
      "texture_mean               float64\n",
      "perimeter_mean             float64\n",
      "area_mean                  float64\n",
      "smoothness_mean            float64\n",
      "compactness_mean           float64\n",
      "concavity_mean             float64\n",
      "concave points_mean        float64\n",
      "symmetry_mean              float64\n",
      "fractal_dimension_mean     float64\n",
      "radius_se                  float64\n",
      "texture_se                 float64\n",
      "perimeter_se               float64\n",
      "area_se                    float64\n",
      "smoothness_se              float64\n",
      "compactness_se             float64\n",
      "concavity_se               float64\n",
      "concave points_se          float64\n",
      "symmetry_se                float64\n",
      "fractal_dimension_se       float64\n",
      "radius_worst               float64\n",
      "texture_worst              float64\n",
      "perimeter_worst            float64\n",
      "area_worst                 float64\n",
      "smoothness_worst           float64\n",
      "compactness_worst          float64\n",
      "concavity_worst            float64\n",
      "concave points_worst       float64\n",
      "symmetry_worst             float64\n",
      "fractal_dimension_worst    float64\n",
      "dtype: object\n"
     ]
    }
   ],
   "source": [
    "\n",
    "# look at the data types to see which columns need to be transformed / encoded to a number\n",
    "print(df.dtypes)"
   ]
  },
  {
   "cell_type": "code",
   "execution_count": 16,
   "id": "15559995",
   "metadata": {
    "execution": {
     "iopub.execute_input": "2022-11-06T09:14:38.499117Z",
     "iopub.status.busy": "2022-11-06T09:14:38.498736Z",
     "iopub.status.idle": "2022-11-06T09:14:38.662444Z",
     "shell.execute_reply": "2022-11-06T09:14:38.660949Z"
    },
    "papermill": {
     "duration": 0.180973,
     "end_time": "2022-11-06T09:14:38.666140",
     "exception": false,
     "start_time": "2022-11-06T09:14:38.485167",
     "status": "completed"
    },
    "tags": []
   },
   "outputs": [
    {
     "name": "stdout",
     "output_type": "stream",
     "text": [
      "0    1\n",
      "1    1\n",
      "2    1\n",
      "3    1\n",
      "4    1\n",
      "Name: diagnosis, dtype: int64\n"
     ]
    }
   ],
   "source": [
    "# Encoding categorical data values (Transforming categorical data into numbers)\n",
    "from sklearn.preprocessing import LabelEncoder\n",
    "labelencoder_Y = LabelEncoder()\n",
    "df.iloc[:,1]= labelencoder_Y.fit_transform(df.iloc[:,1].values)\n",
    "print(df.iloc[:,1].head())"
   ]
  },
  {
   "cell_type": "code",
   "execution_count": 17,
   "id": "5e269ce3",
   "metadata": {
    "execution": {
     "iopub.execute_input": "2022-11-06T09:14:38.704947Z",
     "iopub.status.busy": "2022-11-06T09:14:38.704536Z",
     "iopub.status.idle": "2022-11-06T09:14:43.694174Z",
     "shell.execute_reply": "2022-11-06T09:14:43.692826Z"
    },
    "papermill": {
     "duration": 5.013268,
     "end_time": "2022-11-06T09:14:43.698755",
     "exception": false,
     "start_time": "2022-11-06T09:14:38.685487",
     "status": "completed"
    },
    "tags": []
   },
   "outputs": [
    {
     "data": {
      "text/plain": [
       "<seaborn.axisgrid.PairGrid at 0x7f885f513750>"
      ]
     },
     "execution_count": 17,
     "metadata": {},
     "output_type": "execute_result"
    },
    {
     "data": {
      "image/png": "[encoded data removed]",
      "text/plain": [
       "<Figure size 775.5x720 with 20 Axes>"
      ]
     },
     "metadata": {
      "needs_background": "light"
     },
     "output_type": "display_data"
    }
   ],
   "source": [
    "# create a pair plot\n",
    "sns.pairplot(df.iloc[:,1:6], hue=\"diagnosis\")"
   ]
  },
  {
   "cell_type": "code",
   "execution_count": 18,
   "id": "5f248893",
   "metadata": {
    "execution": {
     "iopub.execute_input": "2022-11-06T09:14:43.731621Z",
     "iopub.status.busy": "2022-11-06T09:14:43.731194Z",
     "iopub.status.idle": "2022-11-06T09:14:43.748984Z",
     "shell.execute_reply": "2022-11-06T09:14:43.747763Z"
    },
    "papermill": {
     "duration": 0.037512,
     "end_time": "2022-11-06T09:14:43.751744",
     "exception": false,
     "start_time": "2022-11-06T09:14:43.714232",
     "status": "completed"
    },
    "tags": []
   },
   "outputs": [
    {
     "name": "stdout",
     "output_type": "stream",
     "text": [
      "         id  diagnosis  radius_mean  texture_mean  perimeter_mean  area_mean  \\\n",
      "0    842302          1        17.99         10.38          122.80     1001.0   \n",
      "1    842517          1        20.57         17.77          132.90     1326.0   \n",
      "2  84300903          1        19.69         21.25          130.00     1203.0   \n",
      "3  84348301          1        11.42         20.38           77.58      386.1   \n",
      "4  84358402          1        20.29         14.34          135.10     1297.0   \n",
      "\n",
      "   smoothness_mean  compactness_mean  concavity_mean  concave points_mean  \\\n",
      "0          0.11840           0.27760          0.3001              0.14710   \n",
      "1          0.08474           0.07864          0.0869              0.07017   \n",
      "2          0.10960           0.15990          0.1974              0.12790   \n",
      "3          0.14250           0.28390          0.2414              0.10520   \n",
      "4          0.10030           0.13280          0.1980              0.10430   \n",
      "\n",
      "   ...  radius_worst  texture_worst  perimeter_worst  area_worst  \\\n",
      "0  ...         25.38          17.33           184.60      2019.0   \n",
      "1  ...         24.99          23.41           158.80      1956.0   \n",
      "2  ...         23.57          25.53           152.50      1709.0   \n",
      "3  ...         14.91          26.50            98.87       567.7   \n",
      "4  ...         22.54          16.67           152.20      1575.0   \n",
      "\n",
      "   smoothness_worst  compactness_worst  concavity_worst  concave points_worst  \\\n",
      "0            0.1622             0.6656           0.7119                0.2654   \n",
      "1            0.1238             0.1866           0.2416                0.1860   \n",
      "2            0.1444             0.4245           0.4504                0.2430   \n",
      "3            0.2098             0.8663           0.6869                0.2575   \n",
      "4            0.1374             0.2050           0.4000                0.1625   \n",
      "\n",
      "   symmetry_worst  fractal_dimension_worst  \n",
      "0          0.4601                  0.11890  \n",
      "1          0.2750                  0.08902  \n",
      "2          0.3613                  0.08758  \n",
      "3          0.6638                  0.17300  \n",
      "4          0.2364                  0.07678  \n",
      "\n",
      "[5 rows x 32 columns]\n"
     ]
    }
   ],
   "source": [
    "# print the first 5 rows of new data set\n",
    "print(df.head(5))"
   ]
  },
  {
   "cell_type": "code",
   "execution_count": 19,
   "id": "edbe529d",
   "metadata": {
    "execution": {
     "iopub.execute_input": "2022-11-06T09:14:43.784782Z",
     "iopub.status.busy": "2022-11-06T09:14:43.784109Z",
     "iopub.status.idle": "2022-11-06T09:14:43.805117Z",
     "shell.execute_reply": "2022-11-06T09:14:43.803825Z"
    },
    "papermill": {
     "duration": 0.040743,
     "end_time": "2022-11-06T09:14:43.807737",
     "exception": false,
     "start_time": "2022-11-06T09:14:43.766994",
     "status": "completed"
    },
    "tags": []
   },
   "outputs": [
    {
     "data": {
      "text/html": [
       "<div>\n",
       "<style scoped>\n",
       "    .dataframe tbody tr th:only-of-type {\n",
       "        vertical-align: middle;\n",
       "    }\n",
       "\n",
       "    .dataframe tbody tr th {\n",
       "        vertical-align: top;\n",
       "    }\n",
       "\n",
       "    .dataframe thead th {\n",
       "        text-align: right;\n",
       "    }\n",
       "</style>\n",
       "<table border=\"1\" class=\"dataframe\">\n",
       "  <thead>\n",
       "    <tr style=\"text-align: right;\">\n",
       "      <th></th>\n",
       "      <th>diagnosis</th>\n",
       "      <th>radius_mean</th>\n",
       "      <th>texture_mean</th>\n",
       "      <th>perimeter_mean</th>\n",
       "      <th>area_mean</th>\n",
       "      <th>smoothness_mean</th>\n",
       "      <th>compactness_mean</th>\n",
       "      <th>concavity_mean</th>\n",
       "      <th>concave points_mean</th>\n",
       "      <th>symmetry_mean</th>\n",
       "      <th>fractal_dimension_mean</th>\n",
       "    </tr>\n",
       "  </thead>\n",
       "  <tbody>\n",
       "    <tr>\n",
       "      <th>diagnosis</th>\n",
       "      <td>1.000000</td>\n",
       "      <td>0.730029</td>\n",
       "      <td>0.415185</td>\n",
       "      <td>0.742636</td>\n",
       "      <td>0.708984</td>\n",
       "      <td>0.358560</td>\n",
       "      <td>0.596534</td>\n",
       "      <td>0.696360</td>\n",
       "      <td>0.776614</td>\n",
       "      <td>0.330499</td>\n",
       "      <td>-0.012838</td>\n",
       "    </tr>\n",
       "    <tr>\n",
       "      <th>radius_mean</th>\n",
       "      <td>0.730029</td>\n",
       "      <td>1.000000</td>\n",
       "      <td>0.323782</td>\n",
       "      <td>0.997855</td>\n",
       "      <td>0.987357</td>\n",
       "      <td>0.170581</td>\n",
       "      <td>0.506124</td>\n",
       "      <td>0.676764</td>\n",
       "      <td>0.822529</td>\n",
       "      <td>0.147741</td>\n",
       "      <td>-0.311631</td>\n",
       "    </tr>\n",
       "    <tr>\n",
       "      <th>texture_mean</th>\n",
       "      <td>0.415185</td>\n",
       "      <td>0.323782</td>\n",
       "      <td>1.000000</td>\n",
       "      <td>0.329533</td>\n",
       "      <td>0.321086</td>\n",
       "      <td>-0.023389</td>\n",
       "      <td>0.236702</td>\n",
       "      <td>0.302418</td>\n",
       "      <td>0.293464</td>\n",
       "      <td>0.071401</td>\n",
       "      <td>-0.076437</td>\n",
       "    </tr>\n",
       "    <tr>\n",
       "      <th>perimeter_mean</th>\n",
       "      <td>0.742636</td>\n",
       "      <td>0.997855</td>\n",
       "      <td>0.329533</td>\n",
       "      <td>1.000000</td>\n",
       "      <td>0.986507</td>\n",
       "      <td>0.207278</td>\n",
       "      <td>0.556936</td>\n",
       "      <td>0.716136</td>\n",
       "      <td>0.850977</td>\n",
       "      <td>0.183027</td>\n",
       "      <td>-0.261477</td>\n",
       "    </tr>\n",
       "    <tr>\n",
       "      <th>area_mean</th>\n",
       "      <td>0.708984</td>\n",
       "      <td>0.987357</td>\n",
       "      <td>0.321086</td>\n",
       "      <td>0.986507</td>\n",
       "      <td>1.000000</td>\n",
       "      <td>0.177028</td>\n",
       "      <td>0.498502</td>\n",
       "      <td>0.685983</td>\n",
       "      <td>0.823269</td>\n",
       "      <td>0.151293</td>\n",
       "      <td>-0.283110</td>\n",
       "    </tr>\n",
       "    <tr>\n",
       "      <th>smoothness_mean</th>\n",
       "      <td>0.358560</td>\n",
       "      <td>0.170581</td>\n",
       "      <td>-0.023389</td>\n",
       "      <td>0.207278</td>\n",
       "      <td>0.177028</td>\n",
       "      <td>1.000000</td>\n",
       "      <td>0.659123</td>\n",
       "      <td>0.521984</td>\n",
       "      <td>0.553695</td>\n",
       "      <td>0.557775</td>\n",
       "      <td>0.584792</td>\n",
       "    </tr>\n",
       "    <tr>\n",
       "      <th>compactness_mean</th>\n",
       "      <td>0.596534</td>\n",
       "      <td>0.506124</td>\n",
       "      <td>0.236702</td>\n",
       "      <td>0.556936</td>\n",
       "      <td>0.498502</td>\n",
       "      <td>0.659123</td>\n",
       "      <td>1.000000</td>\n",
       "      <td>0.883121</td>\n",
       "      <td>0.831135</td>\n",
       "      <td>0.602641</td>\n",
       "      <td>0.565369</td>\n",
       "    </tr>\n",
       "    <tr>\n",
       "      <th>concavity_mean</th>\n",
       "      <td>0.696360</td>\n",
       "      <td>0.676764</td>\n",
       "      <td>0.302418</td>\n",
       "      <td>0.716136</td>\n",
       "      <td>0.685983</td>\n",
       "      <td>0.521984</td>\n",
       "      <td>0.883121</td>\n",
       "      <td>1.000000</td>\n",
       "      <td>0.921391</td>\n",
       "      <td>0.500667</td>\n",
       "      <td>0.336783</td>\n",
       "    </tr>\n",
       "    <tr>\n",
       "      <th>concave points_mean</th>\n",
       "      <td>0.776614</td>\n",
       "      <td>0.822529</td>\n",
       "      <td>0.293464</td>\n",
       "      <td>0.850977</td>\n",
       "      <td>0.823269</td>\n",
       "      <td>0.553695</td>\n",
       "      <td>0.831135</td>\n",
       "      <td>0.921391</td>\n",
       "      <td>1.000000</td>\n",
       "      <td>0.462497</td>\n",
       "      <td>0.166917</td>\n",
       "    </tr>\n",
       "    <tr>\n",
       "      <th>symmetry_mean</th>\n",
       "      <td>0.330499</td>\n",
       "      <td>0.147741</td>\n",
       "      <td>0.071401</td>\n",
       "      <td>0.183027</td>\n",
       "      <td>0.151293</td>\n",
       "      <td>0.557775</td>\n",
       "      <td>0.602641</td>\n",
       "      <td>0.500667</td>\n",
       "      <td>0.462497</td>\n",
       "      <td>1.000000</td>\n",
       "      <td>0.479921</td>\n",
       "    </tr>\n",
       "    <tr>\n",
       "      <th>fractal_dimension_mean</th>\n",
       "      <td>-0.012838</td>\n",
       "      <td>-0.311631</td>\n",
       "      <td>-0.076437</td>\n",
       "      <td>-0.261477</td>\n",
       "      <td>-0.283110</td>\n",
       "      <td>0.584792</td>\n",
       "      <td>0.565369</td>\n",
       "      <td>0.336783</td>\n",
       "      <td>0.166917</td>\n",
       "      <td>0.479921</td>\n",
       "      <td>1.000000</td>\n",
       "    </tr>\n",
       "  </tbody>\n",
       "</table>\n",
       "</div>"
      ],
      "text/plain": [
       "                        diagnosis  radius_mean  texture_mean  perimeter_mean  \\\n",
       "diagnosis                1.000000     0.730029      0.415185        0.742636   \n",
       "radius_mean              0.730029     1.000000      0.323782        0.997855   \n",
       "texture_mean             0.415185     0.323782      1.000000        0.329533   \n",
       "perimeter_mean           0.742636     0.997855      0.329533        1.000000   \n",
       "area_mean                0.708984     0.987357      0.321086        0.986507   \n",
       "smoothness_mean          0.358560     0.170581     -0.023389        0.207278   \n",
       "compactness_mean         0.596534     0.506124      0.236702        0.556936   \n",
       "concavity_mean           0.696360     0.676764      0.302418        0.716136   \n",
       "concave points_mean      0.776614     0.822529      0.293464        0.850977   \n",
       "symmetry_mean            0.330499     0.147741      0.071401        0.183027   \n",
       "fractal_dimension_mean  -0.012838    -0.311631     -0.076437       -0.261477   \n",
       "\n",
       "                        area_mean  smoothness_mean  compactness_mean  \\\n",
       "diagnosis                0.708984         0.358560          0.596534   \n",
       "radius_mean              0.987357         0.170581          0.506124   \n",
       "texture_mean             0.321086        -0.023389          0.236702   \n",
       "perimeter_mean           0.986507         0.207278          0.556936   \n",
       "area_mean                1.000000         0.177028          0.498502   \n",
       "smoothness_mean          0.177028         1.000000          0.659123   \n",
       "compactness_mean         0.498502         0.659123          1.000000   \n",
       "concavity_mean           0.685983         0.521984          0.883121   \n",
       "concave points_mean      0.823269         0.553695          0.831135   \n",
       "symmetry_mean            0.151293         0.557775          0.602641   \n",
       "fractal_dimension_mean  -0.283110         0.584792          0.565369   \n",
       "\n",
       "                        concavity_mean  concave points_mean  symmetry_mean  \\\n",
       "diagnosis                     0.696360             0.776614       0.330499   \n",
       "radius_mean                   0.676764             0.822529       0.147741   \n",
       "texture_mean                  0.302418             0.293464       0.071401   \n",
       "perimeter_mean                0.716136             0.850977       0.183027   \n",
       "area_mean                     0.685983             0.823269       0.151293   \n",
       "smoothness_mean               0.521984             0.553695       0.557775   \n",
       "compactness_mean              0.883121             0.831135       0.602641   \n",
       "concavity_mean                1.000000             0.921391       0.500667   \n",
       "concave points_mean           0.921391             1.000000       0.462497   \n",
       "symmetry_mean                 0.500667             0.462497       1.000000   \n",
       "fractal_dimension_mean        0.336783             0.166917       0.479921   \n",
       "\n",
       "                        fractal_dimension_mean  \n",
       "diagnosis                            -0.012838  \n",
       "radius_mean                          -0.311631  \n",
       "texture_mean                         -0.076437  \n",
       "perimeter_mean                       -0.261477  \n",
       "area_mean                            -0.283110  \n",
       "smoothness_mean                       0.584792  \n",
       "compactness_mean                      0.565369  \n",
       "concavity_mean                        0.336783  \n",
       "concave points_mean                   0.166917  \n",
       "symmetry_mean                         0.479921  \n",
       "fractal_dimension_mean                1.000000  "
      ]
     },
     "execution_count": 19,
     "metadata": {},
     "output_type": "execute_result"
    }
   ],
   "source": [
    "# get the correlation of the columns\n",
    "df.iloc[:,1:12].corr()"
   ]
  },
  {
   "cell_type": "code",
   "execution_count": 20,
   "id": "f11e0b77",
   "metadata": {
    "execution": {
     "iopub.execute_input": "2022-11-06T09:14:43.841637Z",
     "iopub.status.busy": "2022-11-06T09:14:43.841256Z",
     "iopub.status.idle": "2022-11-06T09:14:44.840529Z",
     "shell.execute_reply": "2022-11-06T09:14:44.839126Z"
    },
    "papermill": {
     "duration": 1.020135,
     "end_time": "2022-11-06T09:14:44.844152",
     "exception": false,
     "start_time": "2022-11-06T09:14:43.824017",
     "status": "completed"
    },
    "tags": []
   },
   "outputs": [
    {
     "data": {
      "text/plain": [
       "<AxesSubplot:>"
      ]
     },
     "execution_count": 20,
     "metadata": {},
     "output_type": "execute_result"
    },
    {
     "data": {
      "image/png": "[encoded data removed]",
      "text/plain": [
       "<Figure size 720x720 with 2 Axes>"
      ]
     },
     "metadata": {
      "needs_background": "light"
     },
     "output_type": "display_data"
    }
   ],
   "source": [
    "# visualize the correlation\n",
    "plt.figure(figsize=(10,10))\n",
    "sns.heatmap(df.iloc[:,1:12].corr(), annot=True, fmt='.0%')"
   ]
  },
  {
   "cell_type": "code",
   "execution_count": 21,
   "id": "fc2c4478",
   "metadata": {
    "execution": {
     "iopub.execute_input": "2022-11-06T09:14:44.882243Z",
     "iopub.status.busy": "2022-11-06T09:14:44.881849Z",
     "iopub.status.idle": "2022-11-06T09:14:44.886414Z",
     "shell.execute_reply": "2022-11-06T09:14:44.885234Z"
    },
    "papermill": {
     "duration": 0.025685,
     "end_time": "2022-11-06T09:14:44.888525",
     "exception": false,
     "start_time": "2022-11-06T09:14:44.862840",
     "status": "completed"
    },
    "tags": []
   },
   "outputs": [],
   "source": [
    "# # split the data set into independent (X) and dependent (Y) data sets\n",
    "# X = df.iloc[:, 2:31].values\n",
    "# Y = df.iloc[:, 1].values"
   ]
  },
  {
   "cell_type": "code",
   "execution_count": 22,
   "id": "4838a730",
   "metadata": {
    "execution": {
     "iopub.execute_input": "2022-11-06T09:14:44.927026Z",
     "iopub.status.busy": "2022-11-06T09:14:44.925558Z",
     "iopub.status.idle": "2022-11-06T09:14:44.933382Z",
     "shell.execute_reply": "2022-11-06T09:14:44.932476Z"
    },
    "papermill": {
     "duration": 0.029392,
     "end_time": "2022-11-06T09:14:44.935912",
     "exception": false,
     "start_time": "2022-11-06T09:14:44.906520",
     "status": "completed"
    },
    "tags": []
   },
   "outputs": [],
   "source": [
    "#determining X and y values\n",
    "X = df.drop(['diagnosis'], axis=1)\n",
    "y = df['diagnosis']"
   ]
  },
  {
   "cell_type": "code",
   "execution_count": 23,
   "id": "4f6d0fe3",
   "metadata": {
    "execution": {
     "iopub.execute_input": "2022-11-06T09:14:44.973797Z",
     "iopub.status.busy": "2022-11-06T09:14:44.972964Z",
     "iopub.status.idle": "2022-11-06T09:14:45.002162Z",
     "shell.execute_reply": "2022-11-06T09:14:45.000813Z"
    },
    "papermill": {
     "duration": 0.051607,
     "end_time": "2022-11-06T09:14:45.005174",
     "exception": false,
     "start_time": "2022-11-06T09:14:44.953567",
     "status": "completed"
    },
    "tags": []
   },
   "outputs": [
    {
     "data": {
      "text/html": [
       "<div>\n",
       "<style scoped>\n",
       "    .dataframe tbody tr th:only-of-type {\n",
       "        vertical-align: middle;\n",
       "    }\n",
       "\n",
       "    .dataframe tbody tr th {\n",
       "        vertical-align: top;\n",
       "    }\n",
       "\n",
       "    .dataframe thead th {\n",
       "        text-align: right;\n",
       "    }\n",
       "</style>\n",
       "<table border=\"1\" class=\"dataframe\">\n",
       "  <thead>\n",
       "    <tr style=\"text-align: right;\">\n",
       "      <th></th>\n",
       "      <th>id</th>\n",
       "      <th>radius_mean</th>\n",
       "      <th>texture_mean</th>\n",
       "      <th>perimeter_mean</th>\n",
       "      <th>area_mean</th>\n",
       "      <th>smoothness_mean</th>\n",
       "      <th>compactness_mean</th>\n",
       "      <th>concavity_mean</th>\n",
       "      <th>concave points_mean</th>\n",
       "      <th>symmetry_mean</th>\n",
       "      <th>...</th>\n",
       "      <th>radius_worst</th>\n",
       "      <th>texture_worst</th>\n",
       "      <th>perimeter_worst</th>\n",
       "      <th>area_worst</th>\n",
       "      <th>smoothness_worst</th>\n",
       "      <th>compactness_worst</th>\n",
       "      <th>concavity_worst</th>\n",
       "      <th>concave points_worst</th>\n",
       "      <th>symmetry_worst</th>\n",
       "      <th>fractal_dimension_worst</th>\n",
       "    </tr>\n",
       "  </thead>\n",
       "  <tbody>\n",
       "    <tr>\n",
       "      <th>0</th>\n",
       "      <td>842302</td>\n",
       "      <td>17.99</td>\n",
       "      <td>10.38</td>\n",
       "      <td>122.80</td>\n",
       "      <td>1001.0</td>\n",
       "      <td>0.11840</td>\n",
       "      <td>0.27760</td>\n",
       "      <td>0.3001</td>\n",
       "      <td>0.14710</td>\n",
       "      <td>0.2419</td>\n",
       "      <td>...</td>\n",
       "      <td>25.38</td>\n",
       "      <td>17.33</td>\n",
       "      <td>184.60</td>\n",
       "      <td>2019.0</td>\n",
       "      <td>0.1622</td>\n",
       "      <td>0.6656</td>\n",
       "      <td>0.7119</td>\n",
       "      <td>0.2654</td>\n",
       "      <td>0.4601</td>\n",
       "      <td>0.11890</td>\n",
       "    </tr>\n",
       "    <tr>\n",
       "      <th>1</th>\n",
       "      <td>842517</td>\n",
       "      <td>20.57</td>\n",
       "      <td>17.77</td>\n",
       "      <td>132.90</td>\n",
       "      <td>1326.0</td>\n",
       "      <td>0.08474</td>\n",
       "      <td>0.07864</td>\n",
       "      <td>0.0869</td>\n",
       "      <td>0.07017</td>\n",
       "      <td>0.1812</td>\n",
       "      <td>...</td>\n",
       "      <td>24.99</td>\n",
       "      <td>23.41</td>\n",
       "      <td>158.80</td>\n",
       "      <td>1956.0</td>\n",
       "      <td>0.1238</td>\n",
       "      <td>0.1866</td>\n",
       "      <td>0.2416</td>\n",
       "      <td>0.1860</td>\n",
       "      <td>0.2750</td>\n",
       "      <td>0.08902</td>\n",
       "    </tr>\n",
       "    <tr>\n",
       "      <th>2</th>\n",
       "      <td>84300903</td>\n",
       "      <td>19.69</td>\n",
       "      <td>21.25</td>\n",
       "      <td>130.00</td>\n",
       "      <td>1203.0</td>\n",
       "      <td>0.10960</td>\n",
       "      <td>0.15990</td>\n",
       "      <td>0.1974</td>\n",
       "      <td>0.12790</td>\n",
       "      <td>0.2069</td>\n",
       "      <td>...</td>\n",
       "      <td>23.57</td>\n",
       "      <td>25.53</td>\n",
       "      <td>152.50</td>\n",
       "      <td>1709.0</td>\n",
       "      <td>0.1444</td>\n",
       "      <td>0.4245</td>\n",
       "      <td>0.4504</td>\n",
       "      <td>0.2430</td>\n",
       "      <td>0.3613</td>\n",
       "      <td>0.08758</td>\n",
       "    </tr>\n",
       "    <tr>\n",
       "      <th>3</th>\n",
       "      <td>84348301</td>\n",
       "      <td>11.42</td>\n",
       "      <td>20.38</td>\n",
       "      <td>77.58</td>\n",
       "      <td>386.1</td>\n",
       "      <td>0.14250</td>\n",
       "      <td>0.28390</td>\n",
       "      <td>0.2414</td>\n",
       "      <td>0.10520</td>\n",
       "      <td>0.2597</td>\n",
       "      <td>...</td>\n",
       "      <td>14.91</td>\n",
       "      <td>26.50</td>\n",
       "      <td>98.87</td>\n",
       "      <td>567.7</td>\n",
       "      <td>0.2098</td>\n",
       "      <td>0.8663</td>\n",
       "      <td>0.6869</td>\n",
       "      <td>0.2575</td>\n",
       "      <td>0.6638</td>\n",
       "      <td>0.17300</td>\n",
       "    </tr>\n",
       "    <tr>\n",
       "      <th>4</th>\n",
       "      <td>84358402</td>\n",
       "      <td>20.29</td>\n",
       "      <td>14.34</td>\n",
       "      <td>135.10</td>\n",
       "      <td>1297.0</td>\n",
       "      <td>0.10030</td>\n",
       "      <td>0.13280</td>\n",
       "      <td>0.1980</td>\n",
       "      <td>0.10430</td>\n",
       "      <td>0.1809</td>\n",
       "      <td>...</td>\n",
       "      <td>22.54</td>\n",
       "      <td>16.67</td>\n",
       "      <td>152.20</td>\n",
       "      <td>1575.0</td>\n",
       "      <td>0.1374</td>\n",
       "      <td>0.2050</td>\n",
       "      <td>0.4000</td>\n",
       "      <td>0.1625</td>\n",
       "      <td>0.2364</td>\n",
       "      <td>0.07678</td>\n",
       "    </tr>\n",
       "  </tbody>\n",
       "</table>\n",
       "<p>5 rows × 31 columns</p>\n",
       "</div>"
      ],
      "text/plain": [
       "         id  radius_mean  texture_mean  perimeter_mean  area_mean  \\\n",
       "0    842302        17.99         10.38          122.80     1001.0   \n",
       "1    842517        20.57         17.77          132.90     1326.0   \n",
       "2  84300903        19.69         21.25          130.00     1203.0   \n",
       "3  84348301        11.42         20.38           77.58      386.1   \n",
       "4  84358402        20.29         14.34          135.10     1297.0   \n",
       "\n",
       "   smoothness_mean  compactness_mean  concavity_mean  concave points_mean  \\\n",
       "0          0.11840           0.27760          0.3001              0.14710   \n",
       "1          0.08474           0.07864          0.0869              0.07017   \n",
       "2          0.10960           0.15990          0.1974              0.12790   \n",
       "3          0.14250           0.28390          0.2414              0.10520   \n",
       "4          0.10030           0.13280          0.1980              0.10430   \n",
       "\n",
       "   symmetry_mean  ...  radius_worst  texture_worst  perimeter_worst  \\\n",
       "0         0.2419  ...         25.38          17.33           184.60   \n",
       "1         0.1812  ...         24.99          23.41           158.80   \n",
       "2         0.2069  ...         23.57          25.53           152.50   \n",
       "3         0.2597  ...         14.91          26.50            98.87   \n",
       "4         0.1809  ...         22.54          16.67           152.20   \n",
       "\n",
       "   area_worst  smoothness_worst  compactness_worst  concavity_worst  \\\n",
       "0      2019.0            0.1622             0.6656           0.7119   \n",
       "1      1956.0            0.1238             0.1866           0.2416   \n",
       "2      1709.0            0.1444             0.4245           0.4504   \n",
       "3       567.7            0.2098             0.8663           0.6869   \n",
       "4      1575.0            0.1374             0.2050           0.4000   \n",
       "\n",
       "   concave points_worst  symmetry_worst  fractal_dimension_worst  \n",
       "0                0.2654          0.4601                  0.11890  \n",
       "1                0.1860          0.2750                  0.08902  \n",
       "2                0.2430          0.3613                  0.08758  \n",
       "3                0.2575          0.6638                  0.17300  \n",
       "4                0.1625          0.2364                  0.07678  \n",
       "\n",
       "[5 rows x 31 columns]"
      ]
     },
     "execution_count": 23,
     "metadata": {},
     "output_type": "execute_result"
    }
   ],
   "source": [
    "X.head()"
   ]
  },
  {
   "cell_type": "code",
   "execution_count": 24,
   "id": "00bb7f33",
   "metadata": {
    "execution": {
     "iopub.execute_input": "2022-11-06T09:14:45.043779Z",
     "iopub.status.busy": "2022-11-06T09:14:45.043348Z",
     "iopub.status.idle": "2022-11-06T09:14:45.050879Z",
     "shell.execute_reply": "2022-11-06T09:14:45.049737Z"
    },
    "papermill": {
     "duration": 0.030151,
     "end_time": "2022-11-06T09:14:45.053459",
     "exception": false,
     "start_time": "2022-11-06T09:14:45.023308",
     "status": "completed"
    },
    "tags": []
   },
   "outputs": [
    {
     "data": {
      "text/plain": [
       "0    1\n",
       "1    1\n",
       "2    1\n",
       "3    1\n",
       "4    1\n",
       "Name: diagnosis, dtype: int64"
      ]
     },
     "execution_count": 24,
     "metadata": {},
     "output_type": "execute_result"
    }
   ],
   "source": [
    "y.head()"
   ]
  },
  {
   "cell_type": "code",
   "execution_count": 25,
   "id": "c4c03590",
   "metadata": {
    "execution": {
     "iopub.execute_input": "2022-11-06T09:14:45.091504Z",
     "iopub.status.busy": "2022-11-06T09:14:45.091128Z",
     "iopub.status.idle": "2022-11-06T09:14:45.098036Z",
     "shell.execute_reply": "2022-11-06T09:14:45.096714Z"
    },
    "papermill": {
     "duration": 0.028635,
     "end_time": "2022-11-06T09:14:45.100423",
     "exception": false,
     "start_time": "2022-11-06T09:14:45.071788",
     "status": "completed"
    },
    "tags": []
   },
   "outputs": [
    {
     "data": {
      "text/plain": [
       "(17639, 569)"
      ]
     },
     "execution_count": 25,
     "metadata": {},
     "output_type": "execute_result"
    }
   ],
   "source": [
    "X.size, y.size"
   ]
  },
  {
   "cell_type": "code",
   "execution_count": 26,
   "id": "5ea9f754",
   "metadata": {
    "execution": {
     "iopub.execute_input": "2022-11-06T09:14:45.138452Z",
     "iopub.status.busy": "2022-11-06T09:14:45.137898Z",
     "iopub.status.idle": "2022-11-06T09:14:45.145499Z",
     "shell.execute_reply": "2022-11-06T09:14:45.144394Z"
    },
    "papermill": {
     "duration": 0.029318,
     "end_time": "2022-11-06T09:14:45.147751",
     "exception": false,
     "start_time": "2022-11-06T09:14:45.118433",
     "status": "completed"
    },
    "tags": []
   },
   "outputs": [
    {
     "data": {
      "text/plain": [
       "((569, 31), (569,))"
      ]
     },
     "execution_count": 26,
     "metadata": {},
     "output_type": "execute_result"
    }
   ],
   "source": [
    "X.shape,y.shape"
   ]
  },
  {
   "cell_type": "code",
   "execution_count": 27,
   "id": "63b24a8f",
   "metadata": {
    "execution": {
     "iopub.execute_input": "2022-11-06T09:14:45.186146Z",
     "iopub.status.busy": "2022-11-06T09:14:45.185767Z",
     "iopub.status.idle": "2022-11-06T09:14:45.256317Z",
     "shell.execute_reply": "2022-11-06T09:14:45.255049Z"
    },
    "papermill": {
     "duration": 0.092959,
     "end_time": "2022-11-06T09:14:45.259110",
     "exception": false,
     "start_time": "2022-11-06T09:14:45.166151",
     "status": "completed"
    },
    "tags": []
   },
   "outputs": [],
   "source": [
    "# split the data set into 75% training and 25% testing\n",
    "from sklearn.model_selection import train_test_split\n",
    "X_train, X_test, y_train, y_test = train_test_split(X, y, test_size = 0.25, random_state = 0)\n"
   ]
  },
  {
   "cell_type": "code",
   "execution_count": 28,
   "id": "8ddb5b84",
   "metadata": {
    "execution": {
     "iopub.execute_input": "2022-11-06T09:14:45.298570Z",
     "iopub.status.busy": "2022-11-06T09:14:45.298118Z",
     "iopub.status.idle": "2022-11-06T09:14:45.305761Z",
     "shell.execute_reply": "2022-11-06T09:14:45.304631Z"
    },
    "papermill": {
     "duration": 0.030763,
     "end_time": "2022-11-06T09:14:45.307965",
     "exception": false,
     "start_time": "2022-11-06T09:14:45.277202",
     "status": "completed"
    },
    "tags": []
   },
   "outputs": [
    {
     "data": {
      "text/plain": [
       "((426, 31), (143, 31), (426,), (143,))"
      ]
     },
     "execution_count": 28,
     "metadata": {},
     "output_type": "execute_result"
    }
   ],
   "source": [
    "X_train.shape, X_test.shape, y_train.shape, y_test.shape"
   ]
  },
  {
   "cell_type": "code",
   "execution_count": 29,
   "id": "049d9872",
   "metadata": {
    "execution": {
     "iopub.execute_input": "2022-11-06T09:14:45.346885Z",
     "iopub.status.busy": "2022-11-06T09:14:45.346411Z",
     "iopub.status.idle": "2022-11-06T09:14:45.354481Z",
     "shell.execute_reply": "2022-11-06T09:14:45.353270Z"
    },
    "papermill": {
     "duration": 0.030233,
     "end_time": "2022-11-06T09:14:45.356674",
     "exception": false,
     "start_time": "2022-11-06T09:14:45.326441",
     "status": "completed"
    },
    "tags": []
   },
   "outputs": [
    {
     "data": {
      "text/plain": [
       "(13206, 4433, 426, 143)"
      ]
     },
     "execution_count": 29,
     "metadata": {},
     "output_type": "execute_result"
    }
   ],
   "source": [
    "X_train.size, X_test.size, y_train.size, y_test.size"
   ]
  },
  {
   "cell_type": "code",
   "execution_count": 30,
   "id": "9d13491d",
   "metadata": {
    "execution": {
     "iopub.execute_input": "2022-11-06T09:14:45.395799Z",
     "iopub.status.busy": "2022-11-06T09:14:45.395355Z",
     "iopub.status.idle": "2022-11-06T09:14:45.408065Z",
     "shell.execute_reply": "2022-11-06T09:14:45.406805Z"
    },
    "papermill": {
     "duration": 0.035869,
     "end_time": "2022-11-06T09:14:45.410935",
     "exception": false,
     "start_time": "2022-11-06T09:14:45.375066",
     "status": "completed"
    },
    "tags": []
   },
   "outputs": [],
   "source": [
    "# scale the data (feature scaling)\n",
    "from sklearn.preprocessing import StandardScaler\n",
    "sc = StandardScaler()\n",
    "\n",
    "X_train = sc.fit_transform(X_train)\n",
    "X_test = sc.transform(X_test)"
   ]
  },
  {
   "cell_type": "code",
   "execution_count": 31,
   "id": "0c59e0ec",
   "metadata": {
    "execution": {
     "iopub.execute_input": "2022-11-06T09:14:45.451281Z",
     "iopub.status.busy": "2022-11-06T09:14:45.450894Z",
     "iopub.status.idle": "2022-11-06T09:14:45.458852Z",
     "shell.execute_reply": "2022-11-06T09:14:45.457703Z"
    },
    "papermill": {
     "duration": 0.0314,
     "end_time": "2022-11-06T09:14:45.461320",
     "exception": false,
     "start_time": "2022-11-06T09:14:45.429920",
     "status": "completed"
    },
    "tags": []
   },
   "outputs": [
    {
     "data": {
      "text/plain": [
       "array([[-0.23086619, -0.65079907, -0.43057322, ..., -0.36433881,\n",
       "         0.32349851, -0.7578486 ],\n",
       "       [-0.23082222, -0.82835341,  0.15226547, ..., -1.45036679,\n",
       "         0.62563098, -1.03071387],\n",
       "       [-0.23058288,  1.68277234,  2.18977235, ...,  0.72504581,\n",
       "        -0.51329768, -0.96601386],\n",
       "       ...,\n",
       "       [ 7.05970021, -1.33114223, -0.22172269, ..., -0.98806491,\n",
       "        -0.69995543, -0.12266325],\n",
       "       [-0.23100067, -1.25110186, -0.24600763, ..., -1.75887319,\n",
       "        -1.56206114, -1.00989735],\n",
       "       [-0.23059415, -0.74662205,  1.14066273, ..., -0.2860679 ,\n",
       "        -1.24094654,  0.2126516 ]])"
      ]
     },
     "execution_count": 31,
     "metadata": {},
     "output_type": "execute_result"
    }
   ],
   "source": [
    "X_train"
   ]
  },
  {
   "cell_type": "code",
   "execution_count": 32,
   "id": "e8a6c09f",
   "metadata": {
    "execution": {
     "iopub.execute_input": "2022-11-06T09:14:45.500586Z",
     "iopub.status.busy": "2022-11-06T09:14:45.499780Z",
     "iopub.status.idle": "2022-11-06T09:14:45.507917Z",
     "shell.execute_reply": "2022-11-06T09:14:45.506754Z"
    },
    "papermill": {
     "duration": 0.030585,
     "end_time": "2022-11-06T09:14:45.510262",
     "exception": false,
     "start_time": "2022-11-06T09:14:45.479677",
     "status": "completed"
    },
    "tags": []
   },
   "outputs": [
    {
     "data": {
      "text/plain": [
       "array([[-0.2306719 , -0.21395901,  0.3125461 , ...,  1.37043754,\n",
       "         1.08911166,  1.53928319],\n",
       "       [-0.16428419, -0.26750714,  1.461224  , ..., -0.84266106,\n",
       "        -0.71577388, -0.88105993],\n",
       "       [-0.23072277, -0.03922298, -0.86770223, ..., -0.505318  ,\n",
       "        -1.20298225, -0.92494342],\n",
       "       ...,\n",
       "       [ 0.50554255, -0.51270124, -1.69096186, ..., -0.12632201,\n",
       "         0.33773512, -0.42872244],\n",
       "       [-0.16834794, -0.17732081, -2.01395163, ..., -0.62875108,\n",
       "        -0.29500302, -0.65432858],\n",
       "       [-0.23103224,  1.5305829 , -0.26300709, ...,  1.6694843 ,\n",
       "         1.18085869,  0.48889253]])"
      ]
     },
     "execution_count": 32,
     "metadata": {},
     "output_type": "execute_result"
    }
   ],
   "source": [
    "X_test"
   ]
  },
  {
   "cell_type": "code",
   "execution_count": 33,
   "id": "6287fcad",
   "metadata": {
    "execution": {
     "iopub.execute_input": "2022-11-06T09:14:45.549921Z",
     "iopub.status.busy": "2022-11-06T09:14:45.548907Z",
     "iopub.status.idle": "2022-11-06T09:14:45.553460Z",
     "shell.execute_reply": "2022-11-06T09:14:45.552619Z"
    },
    "papermill": {
     "duration": 0.026668,
     "end_time": "2022-11-06T09:14:45.555634",
     "exception": false,
     "start_time": "2022-11-06T09:14:45.528966",
     "status": "completed"
    },
    "tags": []
   },
   "outputs": [],
   "source": [
    "#creating the model"
   ]
  },
  {
   "cell_type": "code",
   "execution_count": 34,
   "id": "2d4428b6",
   "metadata": {
    "execution": {
     "iopub.execute_input": "2022-11-06T09:14:45.595654Z",
     "iopub.status.busy": "2022-11-06T09:14:45.595260Z",
     "iopub.status.idle": "2022-11-06T09:14:45.985443Z",
     "shell.execute_reply": "2022-11-06T09:14:45.983754Z"
    },
    "papermill": {
     "duration": 0.415708,
     "end_time": "2022-11-06T09:14:45.990109",
     "exception": false,
     "start_time": "2022-11-06T09:14:45.574401",
     "status": "completed"
    },
    "tags": []
   },
   "outputs": [
    {
     "name": "stdout",
     "output_type": "stream",
     "text": [
      "[0]Logistic Regression Training Accuracy:0.99\n",
      "[1]K Nearest Neighbor Training Accuracy :0.97\n",
      "[2]Support Vector Machine (Linear Classifier) Training Accuracy:0.99\n",
      "[3]Support Vector Machine (RBF Classifier) Training Accuracy: 0.98\n",
      "[4]Gaussian Naive Bayes Training Accuracy: 0.95\n",
      "[5]Decision Tree Classifier Training Accuracy: 1.00\n"
     ]
    }
   ],
   "source": [
    "# create a function for the models\n",
    "def models(X_train,y_train):\n",
    "\n",
    "        # Using Logistic Regression Algorithm to the Training Set\n",
    "        from sklearn.linear_model import LogisticRegression\n",
    "        log = LogisticRegression(random_state = 0)\n",
    "        log.fit(X_train, y_train)\n",
    "\n",
    "        # Using KNeighborsClassifier Method of neighbors class to use Nearest Neighbor algorithm\n",
    "        from sklearn.neighbors import KNeighborsClassifier\n",
    "        knn = KNeighborsClassifier(n_neighbors = 5, metric = 'minkowski', p = 2)\n",
    "        knn.fit(X_train, y_train)\n",
    "\n",
    "        # Using SVC method of svm class to use Support Vector Machine Algorithm\n",
    "        from sklearn.svm import SVC\n",
    "        svc_lin = SVC(kernel = 'linear', random_state = 0)\n",
    "        svc_lin.fit(X_train, y_train)\n",
    "\n",
    "        # Using SVC method of svm class to use Kernel SVM Algorithm\n",
    "        from sklearn.svm import SVC\n",
    "        svc_rbf = SVC(kernel = 'rbf', random_state = 0)\n",
    "        svc_rbf.fit(X_train, y_train)\n",
    "\n",
    "        # Using GaussianNB method of naïve_bayes class to use Naïve Bayes Algorithm\n",
    "        from sklearn.naive_bayes import GaussianNB\n",
    "        gauss = GaussianNB()\n",
    "        gauss.fit(X_train, y_train)\n",
    "\n",
    "        # Using DecisionTreeClassifier of tree class to use Decision Tree Algorithm\n",
    "        from sklearn.tree import DecisionTreeClassifier\n",
    "        tree = DecisionTreeClassifier(criterion = 'entropy', random_state = 0)\n",
    "        tree.fit(X_train, y_train)\n",
    "\n",
    "        # Using RandomForestClassifier method of ensemble class to use Random Forest Classification algorithm\n",
    "        from sklearn.ensemble import RandomForestClassifier\n",
    "        forest = RandomForestClassifier(n_estimators = 10, criterion = 'entropy', random_state = 0)\n",
    "        forest.fit(X_train, y_train)\n",
    "\n",
    "        # print the training accuracy for each algorithm\n",
    "        print(f'[0]Logistic Regression Training Accuracy:%.2f'% log.score(X_train, y_train))\n",
    "        print(f'[1]K Nearest Neighbor Training Accuracy :%.2f'% knn.score(X_train, y_train))\n",
    "        print(f'[2]Support Vector Machine (Linear Classifier) Training Accuracy:%.2f'% svc_lin.score(X_train, y_train))\n",
    "        print(f'[3]Support Vector Machine (RBF Classifier) Training Accuracy: %.2f'% svc_rbf.score(X_train, y_train))\n",
    "        print(f'[4]Gaussian Naive Bayes Training Accuracy: %.2f'% gauss.score(X_train, y_train))\n",
    "        print(f'[5]Decision Tree Classifier Training Accuracy: %.2f'%tree.score(X_train, y_train))\n",
    "\n",
    "        return log, knn, svc_lin, svc_rbf, gauss, tree, forest\n",
    "\n",
    "# get and train all of the models\n",
    "model = models(X_train,y_train)"
   ]
  },
  {
   "cell_type": "code",
   "execution_count": 35,
   "id": "cd23cbc6",
   "metadata": {
    "execution": {
     "iopub.execute_input": "2022-11-06T09:14:46.062630Z",
     "iopub.status.busy": "2022-11-06T09:14:46.062228Z",
     "iopub.status.idle": "2022-11-06T09:14:46.143372Z",
     "shell.execute_reply": "2022-11-06T09:14:46.141407Z"
    },
    "papermill": {
     "duration": 0.11018,
     "end_time": "2022-11-06T09:14:46.147996",
     "exception": false,
     "start_time": "2022-11-06T09:14:46.037816",
     "status": "completed"
    },
    "tags": []
   },
   "outputs": [
    {
     "name": "stdout",
     "output_type": "stream",
     "text": [
      "confusion_matrix\n",
      " [[87  3]\n",
      " [ 3 50]] \n",
      "\n",
      "Model[0] Testing Accuracy = \"0.958042!\"\n",
      "\n",
      "confusion_matrix\n",
      " [[89  1]\n",
      " [ 6 47]] \n",
      "\n",
      "Model[1] Testing Accuracy = \"0.951049!\"\n",
      "\n",
      "confusion_matrix\n",
      " [[84  6]\n",
      " [ 3 50]] \n",
      "\n",
      "Model[2] Testing Accuracy = \"0.937063!\"\n",
      "\n",
      "confusion_matrix\n",
      " [[87  3]\n",
      " [ 3 50]] \n",
      "\n",
      "Model[3] Testing Accuracy = \"0.958042!\"\n",
      "\n",
      "confusion_matrix\n",
      " [[84  6]\n",
      " [ 6 47]] \n",
      "\n",
      "Model[4] Testing Accuracy = \"0.916084!\"\n",
      "\n",
      "confusion_matrix\n",
      " [[85  5]\n",
      " [ 2 51]] \n",
      "\n",
      "Model[5] Testing Accuracy = \"0.951049!\"\n",
      "\n",
      "confusion_matrix\n",
      " [[90  0]\n",
      " [ 2 51]] \n",
      "\n",
      "Model[6] Testing Accuracy = \"0.986014!\"\n",
      "\n"
     ]
    }
   ],
   "source": [
    "# show the confusion matrix and accuracy for all of the models on the test data\n",
    "from sklearn.metrics import confusion_matrix\n",
    "for i in range(len(model)):\n",
    "        cm = confusion_matrix(y_test, model[i].predict(X_test))\n",
    "\n",
    "        #extracting TN, FP, FN, TP\n",
    "        TN, FP, FN, TP = confusion_matrix(y_test, model[i].predict(X_test)).ravel()\n",
    "\n",
    "        test_score = (TP + TN) / (TP + TN + FN + FP)\n",
    "\n",
    "        print(\"confusion_matrix\\n\",cm,'\\n')\n",
    "        print('Model[{}] Testing Accuracy = \"{:f}!\"'.format(i, test_score))\n",
    "        print()"
   ]
  },
  {
   "cell_type": "code",
   "execution_count": 36,
   "id": "2b4f3b25",
   "metadata": {
    "execution": {
     "iopub.execute_input": "2022-11-06T09:14:46.226772Z",
     "iopub.status.busy": "2022-11-06T09:14:46.225506Z",
     "iopub.status.idle": "2022-11-06T09:14:46.344964Z",
     "shell.execute_reply": "2022-11-06T09:14:46.343220Z"
    },
    "papermill": {
     "duration": 0.151327,
     "end_time": "2022-11-06T09:14:46.349981",
     "exception": false,
     "start_time": "2022-11-06T09:14:46.198654",
     "status": "completed"
    },
    "tags": []
   },
   "outputs": [
    {
     "name": "stdout",
     "output_type": "stream",
     "text": [
      "Model  0\n",
      "######################################################\n",
      "This is classification_report\n",
      "               precision    recall  f1-score   support\n",
      "\n",
      "           0       0.97      0.97      0.97        90\n",
      "           1       0.94      0.94      0.94        53\n",
      "\n",
      "    accuracy                           0.96       143\n",
      "   macro avg       0.96      0.96      0.96       143\n",
      "weighted avg       0.96      0.96      0.96       143\n",
      "\n",
      "______________________________________________________\n",
      "This is accuracy_score 0.96\n",
      "\n",
      "Model  1\n",
      "######################################################\n",
      "This is classification_report\n",
      "               precision    recall  f1-score   support\n",
      "\n",
      "           0       0.94      0.99      0.96        90\n",
      "           1       0.98      0.89      0.93        53\n",
      "\n",
      "    accuracy                           0.95       143\n",
      "   macro avg       0.96      0.94      0.95       143\n",
      "weighted avg       0.95      0.95      0.95       143\n",
      "\n",
      "______________________________________________________\n",
      "This is accuracy_score 0.95\n",
      "\n",
      "Model  2\n",
      "######################################################\n",
      "This is classification_report\n",
      "               precision    recall  f1-score   support\n",
      "\n",
      "           0       0.97      0.93      0.95        90\n",
      "           1       0.89      0.94      0.92        53\n",
      "\n",
      "    accuracy                           0.94       143\n",
      "   macro avg       0.93      0.94      0.93       143\n",
      "weighted avg       0.94      0.94      0.94       143\n",
      "\n",
      "______________________________________________________\n",
      "This is accuracy_score 0.94\n",
      "\n",
      "Model  3\n",
      "######################################################\n",
      "This is classification_report\n",
      "               precision    recall  f1-score   support\n",
      "\n",
      "           0       0.97      0.97      0.97        90\n",
      "           1       0.94      0.94      0.94        53\n",
      "\n",
      "    accuracy                           0.96       143\n",
      "   macro avg       0.96      0.96      0.96       143\n",
      "weighted avg       0.96      0.96      0.96       143\n",
      "\n",
      "______________________________________________________\n",
      "This is accuracy_score 0.96\n",
      "\n",
      "Model  4\n",
      "######################################################\n",
      "This is classification_report\n",
      "               precision    recall  f1-score   support\n",
      "\n",
      "           0       0.93      0.93      0.93        90\n",
      "           1       0.89      0.89      0.89        53\n",
      "\n",
      "    accuracy                           0.92       143\n",
      "   macro avg       0.91      0.91      0.91       143\n",
      "weighted avg       0.92      0.92      0.92       143\n",
      "\n",
      "______________________________________________________\n",
      "This is accuracy_score 0.92\n",
      "\n",
      "Model  5\n",
      "######################################################\n",
      "This is classification_report\n",
      "               precision    recall  f1-score   support\n",
      "\n",
      "           0       0.98      0.94      0.96        90\n",
      "           1       0.91      0.96      0.94        53\n",
      "\n",
      "    accuracy                           0.95       143\n",
      "   macro avg       0.94      0.95      0.95       143\n",
      "weighted avg       0.95      0.95      0.95       143\n",
      "\n",
      "______________________________________________________\n",
      "This is accuracy_score 0.95\n",
      "\n",
      "Model  6\n",
      "######################################################\n",
      "This is classification_report\n",
      "               precision    recall  f1-score   support\n",
      "\n",
      "           0       0.98      1.00      0.99        90\n",
      "           1       1.00      0.96      0.98        53\n",
      "\n",
      "    accuracy                           0.99       143\n",
      "   macro avg       0.99      0.98      0.98       143\n",
      "weighted avg       0.99      0.99      0.99       143\n",
      "\n",
      "______________________________________________________\n",
      "This is accuracy_score 0.99\n",
      "\n"
     ]
    }
   ],
   "source": [
    "# show another way to get the models accuracy on the test data\n",
    "from sklearn.metrics import classification_report\n",
    "from sklearn.metrics import accuracy_score\n",
    "\n",
    "for i in range(len(model)):\n",
    "        print('Model ',i)\n",
    "        print('######'*9)\n",
    "        \n",
    "        #Check precision, recall, f1-score\n",
    "        print(\"This is classification_report\\n\", classification_report(y_test, model[i].predict(X_test)) )\n",
    "        print('______'*9)\n",
    "        #Another way to get the models accuracy on the test data\n",
    "        print('This is accuracy_score %.2f'% accuracy_score(y_test, model[i].predict(X_test)))\n",
    "        print()"
   ]
  },
  {
   "cell_type": "code",
   "execution_count": 37,
   "id": "2d1d17fb",
   "metadata": {
    "execution": {
     "iopub.execute_input": "2022-11-06T09:14:46.409663Z",
     "iopub.status.busy": "2022-11-06T09:14:46.409256Z",
     "iopub.status.idle": "2022-11-06T09:14:46.419622Z",
     "shell.execute_reply": "2022-11-06T09:14:46.418158Z"
    },
    "papermill": {
     "duration": 0.033573,
     "end_time": "2022-11-06T09:14:46.422073",
     "exception": false,
     "start_time": "2022-11-06T09:14:46.388500",
     "status": "completed"
    },
    "tags": []
   },
   "outputs": [
    {
     "name": "stdout",
     "output_type": "stream",
     "text": [
      "[1 0 0 0 0 0 0 0 0 0 0 0 0 0 0 1 0 1 1 1 1 1 0 0 1 0 0 1 0 1 0 1 0 1 0 1 0\n",
      " 1 0 1 0 0 1 0 0 1 0 0 0 1 1 1 1 0 0 0 0 0 0 1 1 1 0 0 1 0 1 1 1 0 0 1 0 0\n",
      " 1 0 0 0 0 0 1 1 1 0 1 0 0 0 1 1 0 1 0 1 0 0 1 0 0 0 0 0 0 0 1 0 1 0 1 1 0\n",
      " 1 1 0 0 0 0 0 0 0 0 0 1 0 1 0 0 0 0 0 1 0 0 0 0 0 0 1 1 0 0 0 1]\n",
      "\n"
     ]
    }
   ],
   "source": [
    "# print the prediction of the random forest classifier model\n",
    "pred = model[6].predict(X_test)\n",
    "print(pred)\n",
    "print()\n"
   ]
  },
  {
   "cell_type": "code",
   "execution_count": 38,
   "id": "488edda6",
   "metadata": {
    "execution": {
     "iopub.execute_input": "2022-11-06T09:14:46.463295Z",
     "iopub.status.busy": "2022-11-06T09:14:46.462311Z",
     "iopub.status.idle": "2022-11-06T09:14:46.469113Z",
     "shell.execute_reply": "2022-11-06T09:14:46.467958Z"
    },
    "papermill": {
     "duration": 0.030162,
     "end_time": "2022-11-06T09:14:46.471609",
     "exception": false,
     "start_time": "2022-11-06T09:14:46.441447",
     "status": "completed"
    },
    "tags": []
   },
   "outputs": [],
   "source": [
    "\n",
    "# create a pickle file using serialization\n",
    "import pickle\n",
    "pickle_out = open(\"classifier.pkl\",\"wb\")\n",
    "pickle.dump(model[6], pickle_out)\n",
    "pickle_out.close()"
   ]
  },
  {
   "cell_type": "code",
   "execution_count": 39,
   "id": "bc2b2cfe",
   "metadata": {
    "execution": {
     "iopub.execute_input": "2022-11-06T09:14:46.513413Z",
     "iopub.status.busy": "2022-11-06T09:14:46.512971Z",
     "iopub.status.idle": "2022-11-06T09:14:46.520545Z",
     "shell.execute_reply": "2022-11-06T09:14:46.519240Z"
    },
    "papermill": {
     "duration": 0.031318,
     "end_time": "2022-11-06T09:14:46.522909",
     "exception": false,
     "start_time": "2022-11-06T09:14:46.491591",
     "status": "completed"
    },
    "tags": []
   },
   "outputs": [],
   "source": [
    "# save the model to disk\n",
    "filename = 'finalized_model.sav'\n",
    "pickle.dump(model[6], open(filename, 'wb'))"
   ]
  },
  {
   "cell_type": "code",
   "execution_count": 40,
   "id": "09fbca7c",
   "metadata": {
    "execution": {
     "iopub.execute_input": "2022-11-06T09:14:46.564033Z",
     "iopub.status.busy": "2022-11-06T09:14:46.563279Z",
     "iopub.status.idle": "2022-11-06T09:14:46.574342Z",
     "shell.execute_reply": "2022-11-06T09:14:46.572675Z"
    },
    "papermill": {
     "duration": 0.034989,
     "end_time": "2022-11-06T09:14:46.577359",
     "exception": false,
     "start_time": "2022-11-06T09:14:46.542370",
     "status": "completed"
    },
    "tags": []
   },
   "outputs": [
    {
     "name": "stdout",
     "output_type": "stream",
     "text": [
      "Result is 0.9860\n"
     ]
    }
   ],
   "source": [
    "\n",
    "# load the model from disk\n",
    "loaded_model = pickle.load(open(filename, 'rb'))\n",
    "result = loaded_model.score(X_test, y_test)\n",
    "\n",
    "print(f\"Result is %.4f\" % result )"
   ]
  },
  {
   "cell_type": "code",
   "execution_count": null,
   "id": "9973c5fd",
   "metadata": {
    "papermill": {
     "duration": 0.021126,
     "end_time": "2022-11-06T09:14:46.618105",
     "exception": false,
     "start_time": "2022-11-06T09:14:46.596979",
     "status": "completed"
    },
    "tags": []
   },
   "outputs": [],
   "source": []
  },
  {
   "cell_type": "code",
   "execution_count": null,
   "id": "c90bda51",
   "metadata": {
    "papermill": {
     "duration": 0.019107,
     "end_time": "2022-11-06T09:14:46.661106",
     "exception": false,
     "start_time": "2022-11-06T09:14:46.641999",
     "status": "completed"
    },
    "tags": []
   },
   "outputs": [],
   "source": []
  },
  {
   "cell_type": "code",
   "execution_count": null,
   "id": "fd263595",
   "metadata": {
    "papermill": {
     "duration": 0.01912,
     "end_time": "2022-11-06T09:14:46.699999",
     "exception": false,
     "start_time": "2022-11-06T09:14:46.680879",
     "status": "completed"
    },
    "tags": []
   },
   "outputs": [],
   "source": []
  }
 ],
 "metadata": {
  "kernelspec": {
   "display_name": "Python 3",
   "language": "python",
   "name": "python3"
  },
  "language_info": {
   "codemirror_mode": {
    "name": "ipython",
    "version": 3
   },
   "file_extension": ".py",
   "mimetype": "text/x-python",
   "name": "python",
   "nbconvert_exporter": "python",
   "pygments_lexer": "ipython3",
   "version": "3.7.12"
  },
  "papermill": {
   "default_parameters": {},
   "duration": 19.912271,
   "end_time": "2022-11-06T09:14:47.541901",
   "environment_variables": {},
   "exception": null,
   "input_path": "__notebook__.ipynb",
   "output_path": "__notebook__.ipynb",
   "parameters": {},
   "start_time": "2022-11-06T09:14:27.629630",
   "version": "2.3.4"
  }
 },
 "nbformat": 4,
 "nbformat_minor": 5
}
