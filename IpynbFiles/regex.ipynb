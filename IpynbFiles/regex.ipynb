{
  "cells": [
    {
      "cell_type": "markdown",
      "metadata": {
        "colab_type": "text",
        "id": "view-in-github"
      },
      "source": [
        "<a href=\"https://colab.research.google.com/github/themanoftalent/pyt-colab/blob/master/regex.ipynb\" target=\"_parent\"><img src=\"https://colab.research.google.com/assets/colab-badge.svg\" alt=\"Open In Colab\"/></a>"
      ]
    },
    {
      "cell_type": "markdown",
      "metadata": {
        "id": "TqcITJzGZVfe"
      },
      "source": [
        "**Rules**\n",
        "\n",
        ".       - Any Character Except New Line <br>\n",
        "\\d      - Digit (0-9)<br>\n",
        "\\D      - Not a Digit (0-9)<br>\n",
        "\\w      - Word Character (a-z, A-Z, 0-9, _ )<br>\n",
        "\\W      - Not a Word Character<br>\n",
        "\\s      - Whitespace (space, tab, newline)<br>\n",
        "\\S      - Not Whitespace (space, tab, newline)<br>\n",
        "\n",
        "#anchors<br>\n",
        "\\b      - Word Boundary<br>\n",
        "\\B      - Not a Word Boundary<br>\n",
        "^       - Beginning of a String<br>\n",
        "$       - End of a String<br>\n",
        "<br>\n",
        "[]      - Matches Characters in brackets<br>\n",
        "[^ ]    - Matches Characters NOT in brackets<br>\n",
        "|       - Either Or<br>\n",
        "( )     - Group<br>\n",
        "Quantifiers:<br>\n",
        "*       - 0 or More<br>\n",
        "+       - 1 or More<br>\n",
        "?       - 0 or One<br>\n",
        "{3}     - Exact Number<br>\n",
        "{3,4}   - Range of Numbers (Minimum, Maximum)<br>\n",
        "\n",
        "#### Sample Regexs ####\n",
        "\n",
        "[a-zA-Z0-9_.+-]+@[a-zA-Z0-9-]+\\.[a-zA-Z0-9-.]+<br>\n"
      ]
    },
    {
      "cell_type": "code",
      "execution_count": 1,
      "metadata": {
        "id": "j2IibeAfXa6n"
      },
      "outputs": [],
      "source": [
        "import re"
      ]
    },
    {
      "cell_type": "code",
      "execution_count": 2,
      "metadata": {
        "id": "8nCZr07-Xbup"
      },
      "outputs": [],
      "source": [
        "text_to_search = '''\n",
        "abcdefghijklmnopqurtuvwxyz\n",
        "ABCDEFGHIJKLMNOPQRSTUVWXYZ\n",
        "1234567890\n",
        "Ha HaHa\n",
        "MetaCharacters (Need to be escaped):\n",
        ". ^ $ * + ? { } [ ] \\ | ( )\n",
        "coreyms.com\n",
        "321-555-4321\n",
        "123.555.1234\n",
        "123*555*1234\n",
        "800-555-1234\n",
        "900-555-1234\n",
        "Mr. Schafer\n",
        "Mr Smith\n",
        "Ms Davis\n",
        "Mrs. Robinson\n",
        "Mr. T\n",
        "'''"
      ]
    },
    {
      "cell_type": "code",
      "execution_count": 3,
      "metadata": {
        "id": "fbxbdiazXhw-"
      },
      "outputs": [],
      "source": [
        "sentence = 'Start a sentence then bring it to end'"
      ]
    },
    {
      "cell_type": "code",
      "execution_count": 4,
      "metadata": {
        "id": "hOeQcNGOXiRH"
      },
      "outputs": [
        {
          "name": "stdout",
          "output_type": "stream",
          "text": [
            "<re.Match object; span=(216, 218), match='Mr'>\n",
            "<re.Match object; span=(228, 230), match='Mr'>\n",
            "<re.Match object; span=(237, 239), match='Ms'>\n",
            "<re.Match object; span=(246, 248), match='Mr'>\n",
            "<re.Match object; span=(260, 262), match='Mr'>\n"
          ]
        }
      ],
      "source": [
        "\n",
        "patters= re.compile(r'M[r|s|rs]')\n",
        "mathcing = patters.finditer(text_to_search)\n",
        "for m in mathcing:\n",
        "  print(m)"
      ]
    },
    {
      "cell_type": "code",
      "execution_count": null,
      "metadata": {
        "id": "pIbcWkwtX676"
      },
      "outputs": [],
      "source": [
        "patpat=re.compile(r'.')\n",
        "matchme= patpat.finditer(text_to_search)\n",
        "for m in matchme:\n",
        "  print(m)"
      ]
    },
    {
      "cell_type": "code",
      "execution_count": null,
      "metadata": {
        "id": "fqh6-7ixYbde"
      },
      "outputs": [],
      "source": [
        "patpat=re.compile(r'\\.')\n",
        "matchme= patpat.finditer(text_to_search)\n",
        "for m in matchme:\n",
        "  print(m)"
      ]
    },
    {
      "cell_type": "code",
      "execution_count": null,
      "metadata": {
        "id": "-XB6hEvbY_Ne"
      },
      "outputs": [],
      "source": [
        "patpat=re.compile(r'\\s')\n",
        "matchme= patpat.finditer(text_to_search)\n",
        "for m in matchme:\n",
        "  print(m)"
      ]
    },
    {
      "cell_type": "code",
      "execution_count": null,
      "metadata": {
        "id": "v5TJj4kQZA_2"
      },
      "outputs": [],
      "source": [
        "patpat=re.compile(r'\\S')\n",
        "matchme= patpat.finditer(text_to_search)\n",
        "for m in matchme:\n",
        "  print(m)"
      ]
    },
    {
      "cell_type": "code",
      "execution_count": 31,
      "metadata": {
        "colab": {
          "base_uri": "https://localhost:8080/"
        },
        "id": "Lr3B-vtHZEsS",
        "outputId": "8a6c13c0-7ed7-47d5-a783-61667270e251"
      },
      "outputs": [
        {
          "name": "stdout",
          "output_type": "stream",
          "text": [
            "The-women-in-red-is-coming-here-tonight\n",
            "<re.Match object; span=(0, 9), match='The women'>\n"
          ]
        }
      ],
      "source": [
        "import re\n",
        "\n",
        "\n",
        "txt = 'The women in red is coming here tonight'\n",
        "x = re.sub(\"\\s\", \"-\", txt)\n",
        "print(x)\n",
        "\n",
        "findi = re.compile(r'^T\\w+\\s\\S+')\n",
        "matv = findi.finditer(txt)\n",
        "for ma in matv:\n",
        "  print(ma)"
      ]
    },
    {
      "cell_type": "code",
      "execution_count": 45,
      "metadata": {
        "colab": {
          "base_uri": "https://localhost:8080/"
        },
        "id": "MxTJ0ldJZRYJ",
        "outputId": "977fc0f1-d5c4-4086-cdf4-4fffaf5f3c83"
      },
      "outputs": [
        {
          "name": "stdout",
          "output_type": "stream",
          "text": [
            "The-she-women-in-red-is-coming-here-tonight\n",
            "<re.Match object; span=(2, 4), match='e '>\n",
            "<re.Match object; span=(6, 8), match='e '>\n",
            "<re.Match object; span=(12, 14), match='n '>\n",
            "<re.Match object; span=(15, 17), match='n '>\n",
            "<re.Match object; span=(19, 21), match='d '>\n",
            "<re.Match object; span=(22, 24), match='s '>\n",
            "<re.Match object; span=(29, 31), match='g '>\n",
            "<re.Match object; span=(34, 36), match='e '>\n"
          ]
        }
      ],
      "source": [
        "import re\n",
        "\n",
        "\n",
        "txt = 'The she women in red is coming here tonight'\n",
        "x = re.sub(\"\\s\", \"-\", txt)\n",
        "print(x)\n",
        "\n",
        "findi = re.compile(r'[^T]\\W')\n",
        "matv = findi.finditer(txt)\n",
        "for ma in matv:\n",
        "  print(ma)"
      ]
    },
    {
      "cell_type": "code",
      "execution_count": 48,
      "metadata": {
        "colab": {
          "base_uri": "https://localhost:8080/"
        },
        "id": "wxPcmYe1gOqV",
        "outputId": "822a7869-f73c-4545-cad1-29745c486934"
      },
      "outputs": [
        {
          "name": "stdout",
          "output_type": "stream",
          "text": [
            "The_she_women in red is coming here tonight\n"
          ]
        }
      ],
      "source": [
        "import re\n",
        "\n",
        "txt = \"The she women in red is coming here tonight\"\n",
        "x = re.sub(\"\\s\", \"_\", txt, 2)\n",
        "print(x)"
      ]
    },
    {
      "cell_type": "code",
      "execution_count": 51,
      "metadata": {
        "colab": {
          "base_uri": "https://localhost:8080/"
        },
        "id": "8p8fzhZoiCMK",
        "outputId": "60d473c0-214a-4db4-db5e-addd3b86d757"
      },
      "outputs": [
        {
          "name": "stdout",
          "output_type": "stream",
          "text": [
            "<re.Match object; span=(8, 13), match='women'>\n"
          ]
        }
      ],
      "source": [
        "import re\n",
        "\n",
        "txt = \"The she women in red is coming here tonight\"\n",
        "x = re.search(\"women\", txt)\n",
        "print(x) "
      ]
    },
    {
      "cell_type": "code",
      "execution_count": null,
      "metadata": {
        "id": "lNFmOpcViYPl"
      },
      "outputs": [],
      "source": []
    },
    {
      "cell_type": "code",
      "execution_count": 54,
      "metadata": {
        "colab": {
          "base_uri": "https://localhost:8080/"
        },
        "id": "sR1h6zVJiQDA",
        "outputId": "b6d21727-f94f-40db-d483-f5f32b7d76a3"
      },
      "outputs": [
        {
          "name": "stdout",
          "output_type": "stream",
          "text": [
            "women\n"
          ]
        }
      ],
      "source": [
        "print(txt[8:13]) #span=(8, 13)"
      ]
    },
    {
      "cell_type": "code",
      "execution_count": 61,
      "metadata": {
        "colab": {
          "base_uri": "https://localhost:8080/"
        },
        "id": "pIuA2EHuiaVx",
        "outputId": "dae3b614-b6b6-4b87-c919-d388c15ff597"
      },
      "outputs": [
        {
          "name": "stdout",
          "output_type": "stream",
          "text": [
            "(4, 6)\n"
          ]
        }
      ],
      "source": [
        "import re\n",
        "\n",
        "txt = \"The she women in red is coming here tonight\"\n",
        "x = re.search(r\"\\bs\\w?\", txt)\n",
        "print(x.span())"
      ]
    },
    {
      "cell_type": "code",
      "execution_count": 80,
      "metadata": {
        "colab": {
          "base_uri": "https://localhost:8080/"
        },
        "id": "ez1L0NbcilSm",
        "outputId": "382ec214-07ad-4412-d8e5-f3aeeb13c940"
      },
      "outputs": [
        {
          "name": "stdout",
          "output_type": "stream",
          "text": [
            "The she women in red is coming here tonight\n"
          ]
        }
      ],
      "source": [
        "import re\n",
        "\n",
        "txt = \"The she women in red is coming here tonight\"\n",
        "x = re.search(r'\\bw\\w+', txt)\n",
        "print(x.string)"
      ]
    },
    {
      "cell_type": "code",
      "execution_count": 78,
      "metadata": {
        "colab": {
          "base_uri": "https://localhost:8080/"
        },
        "id": "YVKRGNOviyZE",
        "outputId": "25b312d3-2ec6-4c22-ef9d-08e7b04460e9"
      },
      "outputs": [
        {
          "name": "stdout",
          "output_type": "stream",
          "text": [
            "tonight\n"
          ]
        }
      ],
      "source": [
        "import re\n",
        "\n",
        "txt = \"The she women in red is coming here tonight\"\n",
        "x = re.search(r\"\\bt\\w+\", txt)\n",
        "print(x.group())"
      ]
    },
    {
      "cell_type": "code",
      "execution_count": 81,
      "metadata": {
        "colab": {
          "base_uri": "https://localhost:8080/"
        },
        "id": "HcIAbhIEjFJ5",
        "outputId": "39a85060-793e-4a29-aef7-8fdcecbce4bb"
      },
      "outputs": [
        {
          "name": "stdout",
          "output_type": "stream",
          "text": [
            "Search successful.\n"
          ]
        }
      ],
      "source": [
        "import re\n",
        "\n",
        "pattern = '^a...s$'\n",
        "test_string = 'abyss'\n",
        "result = re.match(pattern, test_string)\n",
        "\n",
        "if result:\n",
        "  print(\"Search successful.\")\n",
        "else:\n",
        "  print(\"Search unsuccessful.\")\t"
      ]
    },
    {
      "cell_type": "code",
      "execution_count": 90,
      "metadata": {
        "colab": {
          "base_uri": "https://localhost:8080/"
        },
        "id": "2fEUmR9Vjoys",
        "outputId": "3bd7ed02-de29-41dd-8b22-8a8d1d841101"
      },
      "outputs": [
        {
          "name": "stdout",
          "output_type": "stream",
          "text": [
            "patterns.group() :  Cats are smarter, cleverer than dogs\n",
            "patterns.group(1) :  Cats\n",
            "patterns.group(2) :  smarter,\n"
          ]
        }
      ],
      "source": [
        "import re\n",
        "\n",
        "line = \"Cats are smarter, cleverer than dogs\"\n",
        "\n",
        "patterns = re.match( r'(.*) are (.*?) .*', line, re.M|re.I)\n",
        "\n",
        "if matchObj:\n",
        "   print (\"patterns.group() : \", patterns.group())\n",
        "   print (\"patterns.group(1) : \", patterns.group(1))\n",
        "   print (\"patterns.group(2) : \", patterns.group(2))\n",
        "\n",
        "else:\n",
        "   print (\"No match!!\")"
      ]
    },
    {
      "cell_type": "code",
      "execution_count": null,
      "metadata": {
        "id": "ipNp4RJij7Hb"
      },
      "outputs": [],
      "source": []
    }
  ],
  "metadata": {
    "colab": {
      "authorship_tag": "ABX9TyP86F1D7Wa8khsqHgB3gGbp",
      "include_colab_link": true,
      "name": "Untitled15.ipynb",
      "provenance": []
    },
    "kernelspec": {
      "display_name": "Python 3.11.0rc2 64-bit",
      "language": "python",
      "name": "python3"
    },
    "language_info": {
      "codemirror_mode": {
        "name": "ipython",
        "version": 3
      },
      "file_extension": ".py",
      "mimetype": "text/x-python",
      "name": "python",
      "nbconvert_exporter": "python",
      "pygments_lexer": "ipython3",
      "version": "3.11.0rc2"
    },
    "vscode": {
      "interpreter": {
        "hash": "aee8b7b246df8f9039afb4144a1f6fd8d2ca17a180786b69acc140d282b71a49"
      }
    }
  },
  "nbformat": 4,
  "nbformat_minor": 0
}
